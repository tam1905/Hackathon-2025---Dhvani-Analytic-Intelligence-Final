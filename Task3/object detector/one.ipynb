{
 "cells": [
  {
   "cell_type": "code",
   "execution_count": 25,
   "id": "7fa7a8eb",
   "metadata": {},
   "outputs": [],
   "source": [
    "import os\n",
    "import shutil\n",
    "import random\n",
    "import xml.etree.ElementTree as ET\n",
    "from tqdm import tqdm\n",
    "from sklearn.model_selection import train_test_split\n",
    "import pandas as pd\n",
    "import seaborn as sns\n",
    "import matplotlib.pyplot as plt\n",
    "import numpy as np\n",
    "\n",
    "random.seed(108)\n",
    "\n",
    "# Input & output paths\n",
    "input_folder = './train/Final Train Dataset'\n",
    "working_dir = './process'\n",
    "images_dir = os.path.join(working_dir, 'images')\n",
    "annotations_dir = os.path.join(working_dir, 'annotations')\n",
    "labels_dir = os.path.join(working_dir, 'labels')\n",
    "\n",
    "for d in [working_dir, images_dir, annotations_dir, labels_dir]:\n",
    "    os.makedirs(d, exist_ok=True)\n"
   ]
  },
  {
   "cell_type": "markdown",
   "id": "f59711d4",
   "metadata": {},
   "source": [
    "2. Data Preparation: Copy & Clean Dataset"
   ]
  },
  {
   "cell_type": "code",
   "execution_count": 5,
   "id": "a81b1aaa",
   "metadata": {},
   "outputs": [
    {
     "name": "stdout",
     "output_type": "stream",
     "text": [
      "Matched images: 2987\n",
      "Matched annotations: 2987\n"
     ]
    }
   ],
   "source": [
    "# Get files\n",
    "all_files = os.listdir(input_folder)\n",
    "images = [f for f in all_files if f.lower().endswith('.jpg')]\n",
    "annotations = [f for f in all_files if f.lower().endswith('.xml')]\n",
    "\n",
    "# Copy\n",
    "for img in images:\n",
    "    shutil.copy(os.path.join(input_folder, img), os.path.join(images_dir, img))\n",
    "for ann in annotations:\n",
    "    shutil.copy(os.path.join(input_folder, ann), os.path.join(annotations_dir, ann))\n",
    "\n",
    "# Match valid pairs only\n",
    "image_names = {os.path.splitext(img)[0] for img in os.listdir(images_dir)}\n",
    "ann_names = {os.path.splitext(ann)[0] for ann in os.listdir(annotations_dir)}\n",
    "\n",
    "for img in os.listdir(images_dir):\n",
    "    if os.path.splitext(img)[0] not in ann_names:\n",
    "        os.remove(os.path.join(images_dir, img))\n",
    "\n",
    "for ann in os.listdir(annotations_dir):\n",
    "    if os.path.splitext(ann)[0] not in image_names:\n",
    "        os.remove(os.path.join(annotations_dir, ann))\n",
    "\n",
    "print(f\"Matched images: {len(os.listdir(images_dir))}\")\n",
    "print(f\"Matched annotations: {len(os.listdir(annotations_dir))}\")\n"
   ]
  },
  {
   "cell_type": "markdown",
   "id": "1b5cb3c4",
   "metadata": {},
   "source": [
    "Convert Annotations (XML → YOLOv11 txt)"
   ]
  },
  {
   "cell_type": "code",
   "execution_count": 6,
   "id": "09610b94",
   "metadata": {},
   "outputs": [
    {
     "name": "stderr",
     "output_type": "stream",
     "text": [
      "  6%|▌         | 168/2987 [00:01<00:23, 120.06it/s]"
     ]
    },
    {
     "name": "stdout",
     "output_type": "stream",
     "text": [
      "Skipping corrupted XML: ./process\\annotations\\231.xml\n"
     ]
    },
    {
     "name": "stderr",
     "output_type": "stream",
     "text": [
      "100%|██████████| 2987/2987 [00:20<00:00, 142.37it/s]"
     ]
    },
    {
     "name": "stdout",
     "output_type": "stream",
     "text": [
      "Final pairs: 2732\n"
     ]
    },
    {
     "name": "stderr",
     "output_type": "stream",
     "text": [
      "\n"
     ]
    }
   ],
   "source": [
    "import os\n",
    "import xml.etree.ElementTree as ET\n",
    "from tqdm import tqdm\n",
    "\n",
    "selected_classes = ['car', 'bus', 'truck', 'motorbike']\n",
    "class_name_to_id_mapping = {cls: idx for idx, cls in enumerate(selected_classes)}\n",
    "\n",
    "# XML parser (safe with try/except)\n",
    "def extract_info_from_xml(xml_file):\n",
    "    try:\n",
    "        tree = ET.parse(xml_file)\n",
    "        root = tree.getroot()\n",
    "        info_dict = {'bboxes': [], 'filename': None, 'image_size': None}\n",
    "        \n",
    "        for elem in root:\n",
    "            if elem.tag == \"filename\":\n",
    "                info_dict['filename'] = elem.text\n",
    "            elif elem.tag == \"size\":\n",
    "                w, h, d = [int(subelem.text) for subelem in elem]\n",
    "                info_dict['image_size'] = (w, h, d)\n",
    "            elif elem.tag == \"object\":\n",
    "                bbox = {}\n",
    "                for subelem in elem:\n",
    "                    if subelem.tag == \"name\" and subelem.text in selected_classes:\n",
    "                        bbox[\"class\"] = subelem.text\n",
    "                    elif subelem.tag == \"bndbox\" and \"class\" in bbox:\n",
    "                        for subsubelem in subelem:\n",
    "                            bbox[subsubelem.tag] = int(subsubelem.text)\n",
    "                if 'class' in bbox:\n",
    "                    info_dict['bboxes'].append(bbox)\n",
    "        \n",
    "        return info_dict if info_dict['filename'] else None\n",
    "    \n",
    "    except ET.ParseError:\n",
    "        print(f\"Skipping corrupted XML: {xml_file}\")\n",
    "        return None\n",
    "    except Exception as e:\n",
    "        print(f\"Error processing {xml_file}: {e}\")\n",
    "        return None\n",
    "\n",
    "# Convert to YOLOv11\n",
    "def convert_to_yolov11(info_dict, txt_path):\n",
    "    lines = []\n",
    "    if not info_dict or not info_dict['bboxes']:\n",
    "        open(txt_path, 'w').close()\n",
    "        return\n",
    "    iw, ih, _ = info_dict['image_size']\n",
    "    for b in info_dict[\"bboxes\"]:\n",
    "        cls_id = class_name_to_id_mapping[b[\"class\"]]\n",
    "        cx = (b[\"xmin\"] + b[\"xmax\"]) / 2 / iw\n",
    "        cy = (b[\"ymin\"] + b[\"ymax\"]) / 2 / ih\n",
    "        w = (b[\"xmax\"] - b[\"xmin\"]) / iw\n",
    "        h = (b[\"ymax\"] - b[\"ymin\"]) / ih\n",
    "        lines.append(f\"{cls_id} {cx:.4f} {cy:.4f} {w:.4f} {h:.4f}\")\n",
    "    with open(txt_path, 'w') as f:\n",
    "        f.write(\"\\n\".join(lines))\n",
    "\n",
    "# Process all XML files\n",
    "xml_files = [os.path.join(annotations_dir, f) for f in os.listdir(annotations_dir) if f.endswith('.xml')]\n",
    "valid_image_files, valid_label_files = [], []\n",
    "\n",
    "for xml_file in tqdm(xml_files):\n",
    "    info_dict = extract_info_from_xml(xml_file)\n",
    "    if info_dict:\n",
    "        img_name = info_dict['filename']\n",
    "        img_path = os.path.join(images_dir, img_name)\n",
    "        txt_name = img_name.replace('.jpg', '.txt')\n",
    "        txt_path = os.path.join(labels_dir, txt_name)\n",
    "        if os.path.exists(img_path):\n",
    "            convert_to_yolov11(info_dict, txt_path)\n",
    "            valid_image_files.append(img_path)\n",
    "            valid_label_files.append(txt_path)\n",
    "\n",
    "print(f\"Final pairs: {len(valid_image_files)}\")\n"
   ]
  },
  {
   "cell_type": "code",
   "execution_count": 7,
   "id": "4196b085",
   "metadata": {},
   "outputs": [
    {
     "name": "stdout",
     "output_type": "stream",
     "text": [
      "YAML created at ./process\\vehicle_data.yaml\n"
     ]
    }
   ],
   "source": [
    "train_imgs, temp_imgs, train_lbls, temp_lbls = train_test_split(valid_image_files, valid_label_files, test_size=0.2, random_state=42)\n",
    "val_imgs, test_imgs, val_lbls, test_lbls = train_test_split(temp_imgs, temp_lbls, test_size=0.5, random_state=42)\n",
    "\n",
    "def make_dirs(base, sub):\n",
    "    path = os.path.join(base, sub)\n",
    "    os.makedirs(path, exist_ok=True)\n",
    "    return path\n",
    "\n",
    "train_img_dir = make_dirs(images_dir, \"train\")\n",
    "val_img_dir = make_dirs(images_dir, \"val\")\n",
    "test_img_dir = make_dirs(images_dir, \"test\")\n",
    "train_lbl_dir = make_dirs(labels_dir, \"train\")\n",
    "val_lbl_dir = make_dirs(labels_dir, \"val\")\n",
    "test_lbl_dir = make_dirs(labels_dir, \"test\")\n",
    "\n",
    "def move_files(files, dest):\n",
    "    for f in files:\n",
    "        if not os.path.exists(f): continue\n",
    "        fname = os.path.basename(f)\n",
    "        shutil.move(f, os.path.join(dest, fname))\n",
    "\n",
    "move_files(train_imgs, train_img_dir)\n",
    "move_files(val_imgs, val_img_dir)\n",
    "move_files(test_imgs, test_img_dir)\n",
    "move_files(train_lbls, train_lbl_dir)\n",
    "move_files(val_lbls, val_lbl_dir)\n",
    "move_files(test_lbls, test_lbl_dir)\n",
    "\n",
    "yaml_path = os.path.join(working_dir, 'vehicle_data.yaml')\n",
    "with open(yaml_path, 'w') as f:\n",
    "    f.write(f\"\"\"\n",
    "train: {train_img_dir}\n",
    "val: {val_img_dir}\n",
    "test: {test_img_dir}\n",
    "\n",
    "nc: {len(selected_classes)}\n",
    "names: {selected_classes}\n",
    "\"\"\")\n",
    "print(f\"YAML created at {yaml_path}\")\n"
   ]
  },
  {
   "cell_type": "code",
   "execution_count": 8,
   "id": "a9f86150",
   "metadata": {},
   "outputs": [
    {
     "name": "stdout",
     "output_type": "stream",
     "text": [
      "Skipping corrupted XML: ./process\\annotations\\231.xml\n"
     ]
    },
    {
     "data": {
      "image/png": "[encoded data removed]",
      "text/plain": [
       "<Figure size 800x500 with 1 Axes>"
      ]
     },
     "metadata": {},
     "output_type": "display_data"
    },
    {
     "data": {
      "image/png": "[encoded data removed]",
      "text/plain": [
       "<Figure size 800x500 with 1 Axes>"
      ]
     },
     "metadata": {},
     "output_type": "display_data"
    }
   ],
   "source": [
    "class_counts = {cls: 0 for cls in selected_classes}\n",
    "areas = []\n",
    "\n",
    "for xml_file in xml_files:\n",
    "    info = extract_info_from_xml(xml_file)\n",
    "    if info:\n",
    "        iw, ih, _ = info['image_size']\n",
    "        for b in info['bboxes']:\n",
    "            class_counts[b['class']] += 1\n",
    "            area = (b['xmax']-b['xmin']) * (b['ymax']-b['ymin'])\n",
    "            areas.append(area)\n",
    "\n",
    "plt.figure(figsize=(8,5))\n",
    "sns.barplot(x=list(class_counts.keys()), y=list(class_counts.values()))\n",
    "plt.title(\"Object Counts per Class\")\n",
    "plt.show()\n",
    "\n",
    "plt.figure(figsize=(8,5))\n",
    "sns.histplot(np.log1p(areas), bins=30, kde=True)\n",
    "plt.title(\"Distribution of Bounding Box Areas (log scale)\")\n",
    "plt.show()\n"
   ]
  },
  {
   "cell_type": "code",
   "execution_count": 2,
   "id": "583c5e1b",
   "metadata": {},
   "outputs": [],
   "source": [
    "from IPython import display\n",
    "display.clear_output()"
   ]
  },
  {
   "cell_type": "code",
   "execution_count": 9,
   "id": "4b16991c",
   "metadata": {},
   "outputs": [],
   "source": [
    "def load_dataset(root_dir):\n",
    "    train_dir = os.path.join(root_dir, 'train')\n",
    "    valid_dir = os.path.join(root_dir, 'val')\n",
    "\n",
    "    # Load training data\n",
    "    train_images, train_annotations = load_data(train_dir)\n",
    "\n",
    "    # Load validation data\n",
    "    valid_images, valid_annotations = load_data(valid_dir)\n",
    "\n",
    "    return train_images, train_annotations, valid_images, valid_annotations"
   ]
  },
  {
   "cell_type": "code",
   "execution_count": 10,
   "id": "89f14b2e",
   "metadata": {},
   "outputs": [],
   "source": [
    "def load_data(data_dir):\n",
    "    image_paths = []\n",
    "    annotation_paths = []\n",
    "\n",
    "    # Collect image and annotation file paths\n",
    "    for filename in os.listdir(data_dir):\n",
    "        if filename.endswith('.jpg') or filename.endswith('.png'):\n",
    "            image_paths.append(os.path.join(data_dir, filename))\n",
    "            annotation_paths.append(os.path.join(data_dir, filename.replace('.jpg', '.txt').replace('.png', '.txt')))\n",
    "\n",
    "    # Load images\n",
    "    images = [cv2.imread(img_path) for img_path in image_paths]\n",
    "\n",
    "    # Load annotations\n",
    "    annotations = [load_annotations(ann_path) for ann_path in annotation_paths]\n",
    "\n",
    "    return images, annotations"
   ]
  },
  {
   "cell_type": "code",
   "execution_count": 11,
   "id": "7478ea32",
   "metadata": {},
   "outputs": [],
   "source": [
    "import os\n",
    "def load_annotations(annotation_path):\n",
    "    with open(annotation_path, 'r') as file:\n",
    "        lines = file.readlines()\n",
    "        # Assuming YOLO format: class, x_center, y_center, width, height\n",
    "        annotations = [list(map(float, line.strip().split())) for line in lines]\n",
    "\n",
    "    return np.array(annotations)\n",
    "\n",
    "\n",
    "root_directory = r'D:\\hackthan\\dataset'\n",
    "train_images, train_annotations, valid_images, valid_annotations = load_dataset(root_directory)"
   ]
  },
  {
   "cell_type": "code",
   "execution_count": 13,
   "id": "e1aa7e7a",
   "metadata": {},
   "outputs": [
    {
     "name": "stdout",
     "output_type": "stream",
     "text": [
      "['images', 'labels', 'labels.cache']\n"
     ]
    }
   ],
   "source": [
    "train_directory = r'D:\\hackthan\\dataset\\train'\n",
    "files_in_directory = os.listdir(train_directory)\n",
    "print(files_in_directory)"
   ]
  },
  {
   "cell_type": "code",
   "execution_count": 14,
   "id": "4599af73",
   "metadata": {},
   "outputs": [
    {
     "name": "stdout",
     "output_type": "stream",
     "text": [
      "['images', 'labels', 'labels.cache']\n"
     ]
    }
   ],
   "source": [
    "valid_directory = r'D:\\hackthan\\dataset\\val'\n",
    "files_in_directory = os.listdir(valid_directory)\n",
    "print(files_in_directory)"
   ]
  },
  {
   "cell_type": "code",
   "execution_count": 15,
   "id": "008ec0fc",
   "metadata": {},
   "outputs": [
    {
     "name": "stdout",
     "output_type": "stream",
     "text": [
      "['images', 'labels']\n"
     ]
    }
   ],
   "source": [
    "valid_directory = r'D:\\hackthan\\dataset\\test'\n",
    "files_in_directory = os.listdir(valid_directory)\n",
    "print(files_in_directory)"
   ]
  },
  {
   "cell_type": "code",
   "execution_count": 16,
   "id": "a52dcb35",
   "metadata": {},
   "outputs": [],
   "source": [
    "def load_sample_data(data_dir):\n",
    "    image_dir = os.path.join(data_dir, 'images')\n",
    "    label_dir = os.path.join(data_dir, 'labels')\n",
    "\n",
    "    image_paths, label_paths = [], []\n",
    "\n",
    "    # Collect image and label file paths\n",
    "    for filename in os.listdir(image_dir):\n",
    "        if filename.endswith('.jpg'):\n",
    "            image_paths.append(os.path.join(image_dir, filename))\n",
    "            label_paths.append(os.path.join(label_dir, filename.replace('.jpg', '.txt')))\n",
    "\n",
    "    return image_paths, label_paths"
   ]
  },
  {
   "cell_type": "code",
   "execution_count": 17,
   "id": "9e456053",
   "metadata": {},
   "outputs": [],
   "source": [
    "def load_annotations(annotation_path):\n",
    "    with open(annotation_path, 'r') as file:\n",
    "        lines = file.readlines()\n",
    "        # Assuming YOLO format: class, x_center, y_center, width, height\n",
    "        annotations = [list(map(float, line.strip().split())) for line in lines]\n",
    "\n",
    "    return annotations\n",
    "\n",
    "image_paths, annotation_paths = load_sample_data(train_directory)"
   ]
  },
  {
   "cell_type": "code",
   "execution_count": 18,
   "id": "e8b12ce9",
   "metadata": {},
   "outputs": [
    {
     "name": "stdout",
     "output_type": "stream",
     "text": [
      "Number of images in the training set: 2079\n",
      "Number of labels in the training set: 2079\n"
     ]
    }
   ],
   "source": [
    "def count_files(directory):\n",
    "    image_dir = os.path.join(directory, 'images')\n",
    "    label_dir = os.path.join(directory, 'labels')\n",
    "\n",
    "    image_count = len([f for f in os.listdir(image_dir) if f.endswith('.jpg')])\n",
    "    label_count = len([f for f in os.listdir(label_dir) if f.endswith('.txt')])\n",
    "\n",
    "    return image_count, label_count\n",
    "\n",
    "image_count, label_count = count_files(train_directory)\n",
    "\n",
    "print(f\"Number of images in the training set: {image_count}\")\n",
    "print(f\"Number of labels in the training set: {label_count}\")"
   ]
  },
  {
   "cell_type": "code",
   "execution_count": 19,
   "id": "d21bf00b",
   "metadata": {},
   "outputs": [
    {
     "name": "stdout",
     "output_type": "stream",
     "text": [
      "Labels for D:\\hackthan\\dataset\\train\\labels\\107.txt:\n",
      "[[3.0, 0.3241, 0.614, 0.1411, 0.2147], [3.0, 0.6839, 0.5613, 0.0643, 0.1413]]\n",
      "------------------------\n",
      "Labels for D:\\hackthan\\dataset\\train\\labels\\108.txt:\n",
      "[[1.0, 0.2402, 0.6173, 0.4768, 0.76]]\n",
      "------------------------\n",
      "Labels for D:\\hackthan\\dataset\\train\\labels\\109.txt:\n",
      "[]\n",
      "------------------------\n",
      "Labels for D:\\hackthan\\dataset\\train\\labels\\112.txt:\n",
      "[[1.0, 0.7826, 0.4292, 0.4347, 0.6792], [0.0, 0.4111, 0.424, 0.1361, 0.0813], [3.0, 0.2403, 0.513, 0.1111, 0.0969], [1.0, 0.1382, 0.3818, 0.1792, 0.1219], [0.0, 0.5389, 0.399, 0.0694, 0.0396], [1.0, 0.4986, 0.3667, 0.1, 0.0521], [1.0, 0.3111, 0.3594, 0.0833, 0.0292]]\n",
      "------------------------\n",
      "Labels for D:\\hackthan\\dataset\\train\\labels\\116.txt:\n",
      "[[1.0, 0.5111, 0.4401, 0.8278, 0.7531]]\n",
      "------------------------\n",
      "Labels for D:\\hackthan\\dataset\\train\\labels\\117.txt:\n",
      "[[0.0, 0.1951, 0.5375, 0.3875, 0.2375], [0.0, 0.7215, 0.4411, 0.1819, 0.1073], [3.0, 0.6042, 0.5042, 0.1222, 0.2292], [1.0, 0.3438, 0.3411, 0.1931, 0.051], [1.0, 0.7757, 0.3641, 0.1514, 0.0969], [0.0, 0.6493, 0.3729, 0.1181, 0.0333], [1.0, 0.5215, 0.3578, 0.0875, 0.0385], [1.0, 0.0576, 0.3495, 0.0597, 0.0219]]\n",
      "------------------------\n",
      "Labels for D:\\hackthan\\dataset\\train\\labels\\206.txt:\n",
      "[[3.0, 0.6386, 0.5736, 0.0486, 0.0899], [3.0, 0.7021, 0.5777, 0.0557, 0.1417], [3.0, 0.9293, 0.5409, 0.0529, 0.1063], [3.0, 0.5793, 0.7793, 0.0986, 0.1907], [0.0, 0.5986, 0.7098, 0.1857, 0.1935], [0.0, 0.3057, 0.827, 0.2543, 0.2643], [0.0, 0.4857, 0.4605, 0.1314, 0.109], [0.0, 0.4229, 0.5627, 0.1457, 0.1608], [0.0, 0.5964, 0.5136, 0.1443, 0.1226], [0.0, 0.76, 0.4278, 0.1371, 0.1526], [0.0, 0.1664, 0.4305, 0.0871, 0.0817], [0.0, 0.1636, 0.3447, 0.0614, 0.0845], [0.0, 0.0914, 0.391, 0.0571, 0.0845], [0.0, 0.205, 0.3787, 0.0614, 0.0926]]\n",
      "------------------------\n",
      "Labels for D:\\hackthan\\dataset\\train\\labels\\207.txt:\n",
      "[[3.0, 0.9085, 0.5606, 0.045, 0.268]]\n",
      "------------------------\n",
      "Labels for D:\\hackthan\\dataset\\train\\labels\\208.txt:\n",
      "[[0.0, 0.675, 0.9139, 0.1354, 0.1722], [1.0, 0.7427, 0.6935, 0.1458, 0.2981], [1.0, 0.8797, 0.525, 0.1281, 0.2759], [1.0, 0.0542, 0.7046, 0.1062, 0.3833], [1.0, 0.9734, 0.463, 0.0531, 0.1778], [0.0, 0.1557, 0.8676, 0.1135, 0.1759], [0.0, 0.2411, 0.8037, 0.1031, 0.1593], [0.0, 0.3323, 0.7065, 0.0979, 0.1648], [0.0, 0.2802, 0.5917, 0.0875, 0.1204], [1.0, 0.2167, 0.5056, 0.1062, 0.2444], [1.0, 0.4531, 0.5417, 0.1, 0.2315], [0.0, 0.3745, 0.5083, 0.0635, 0.087], [0.0, 0.5792, 0.4583, 0.0625, 0.1019], [1.0, 0.4661, 0.3259, 0.1073, 0.1407], [1.0, 0.4349, 0.3611, 0.076, 0.1259], [1.0, 0.3573, 0.4472, 0.0896, 0.1722], [1.0, 0.7292, 0.4417, 0.1083, 0.1648]]\n",
      "------------------------\n",
      "Labels for D:\\hackthan\\dataset\\train\\labels\\209.txt:\n",
      "[[1.0, 0.7056, 0.7972, 0.1533, 0.4055], [0.0, 0.4867, 0.9321, 0.1333, 0.1359], [0.0, 0.3756, 0.9151, 0.1178, 0.1699], [0.0, 0.4644, 0.7919, 0.1222, 0.1826], [0.0, 0.5839, 0.8238, 0.11, 0.2081], [0.0, 0.8811, 0.7187, 0.0711, 0.1295], [0.0, 0.8494, 0.6295, 0.0678, 0.0998], [0.0, 0.5672, 0.6019, 0.0589, 0.1083], [0.0, 0.7439, 0.5924, 0.0567, 0.034], [0.0, 0.8178, 0.5775, 0.0556, 0.1019], [0.0, 0.5839, 0.5446, 0.0522, 0.087], [0.0, 0.6467, 0.5764, 0.0578, 0.0573], [0.0, 0.7406, 0.5499, 0.0567, 0.0637], [0.0, 0.7672, 0.5255, 0.0656, 0.0955], [0.0, 0.6772, 0.5414, 0.0567, 0.0764], [0.0, 0.6344, 0.5117, 0.0511, 0.0807], [0.0, 0.595, 0.4777, 0.0478, 0.0637], [0.0, 0.6939, 0.4894, 0.0522, 0.0531], [0.0, 0.6589, 0.4522, 0.0533, 0.051], [0.0, 0.6261, 0.4289, 0.0433, 0.0637], [0.0, 0.7083, 0.4575, 0.0433, 0.0488], [0.0, 0.7583, 0.4682, 0.05, 0.0531], [0.0, 0.8194, 0.4915, 0.0478, 0.0913], [0.0, 0.6372, 0.3811, 0.0322, 0.0361], [0.0, 0.6778, 0.3769, 0.0289, 0.0531], [0.0, 0.7022, 0.3896, 0.0267, 0.0573], [1.0, 0.7833, 0.2643, 0.0978, 0.0488], [0.0, 0.8067, 0.3079, 0.0289, 0.0297], [1.0, 0.675, 0.2633, 0.0411, 0.0425], [0.0, 0.1956, 0.7919, 0.1111, 0.1614], [1.0, 0.1289, 0.6115, 0.1889, 0.276], [0.0, 0.2478, 0.6699, 0.0733, 0.138], [0.0, 0.3583, 0.6794, 0.0722, 0.1104], [0.0, 0.4017, 0.6072, 0.0878, 0.0977], [0.0, 0.2417, 0.5584, 0.0522, 0.0892], [0.0, 0.3506, 0.5828, 0.0367, 0.0828], [0.0, 0.3744, 0.5276, 0.06, 0.0786], [0.0, 0.3606, 0.4766, 0.0678, 0.0786], [1.0, 0.5389, 0.2856, 0.0533, 0.0488]]\n",
      "------------------------\n"
     ]
    }
   ],
   "source": [
    "# Print labels for the first 10 samples\n",
    "for i in range(min(10, len(annotation_paths))):\n",
    "    sample_annotations = load_annotations(annotation_paths[i])\n",
    "    print(f\"Labels for {annotation_paths[i]}:\")\n",
    "    print(sample_annotations)\n",
    "    print(\"------------------------\")"
   ]
  },
  {
   "cell_type": "code",
   "execution_count": 20,
   "id": "58967095",
   "metadata": {},
   "outputs": [
    {
     "name": "stdout",
     "output_type": "stream",
     "text": [
      "Labels for D:\\hackthan\\dataset\\test\\labels\\229.txt:\n",
      "[[0.0, 0.3657, 0.6981, 0.1782, 0.1349], [1.0, 0.6134, 0.5096, 0.1181, 0.1073], [0.0, 0.1157, 0.8261, 0.2292, 0.2314], [0.0, 0.3646, 0.5885, 0.1065, 0.0751], [0.0, 0.3796, 0.5303, 0.0903, 0.0536], [0.0, 0.0544, 0.6084, 0.1065, 0.072], [3.0, 0.0185, 0.5513, 0.0347, 0.0467], [0.0, 0.1759, 0.5149, 0.0579, 0.0352], [1.0, 0.4815, 0.4391, 0.0394, 0.0368], [0.0, 0.3727, 0.4797, 0.0486, 0.0322], [3.0, 0.2025, 0.4759, 0.0278, 0.0276]]\n",
      "------------------------\n",
      "Labels for D:\\hackthan\\dataset\\test\\labels\\230.txt:\n",
      "[[1.0, 0.3944, 0.5856, 0.1211, 0.2541], [0.0, 0.0559, 0.8204, 0.1087, 0.1713], [1.0, 0.3315, 0.5262, 0.1289, 0.268], [1.0, 0.4472, 0.3066, 0.0559, 0.0773], [1.0, 0.4402, 0.3895, 0.0637, 0.0939], [0.0, 0.257, 0.6547, 0.0761, 0.0884], [0.0, 0.927, 0.7624, 0.1118, 0.1215], [0.0, 0.177, 0.5152, 0.059, 0.058], [0.0, 0.0512, 0.7099, 0.0901, 0.0442], [0.0, 0.6095, 0.6644, 0.0792, 0.0746], [0.0, 0.1056, 0.4959, 0.0621, 0.047], [0.0, 0.2616, 0.3453, 0.0419, 0.0331]]\n",
      "------------------------\n",
      "Labels for D:\\hackthan\\dataset\\test\\labels\\Asraf_08.txt:\n",
      "[[1.0, 0.5581, 0.5824, 0.4932, 0.4611], [1.0, 0.8771, 0.4926, 0.176, 0.187], [1.0, 0.9714, 0.5106, 0.0573, 0.1787], [1.0, 0.1628, 0.512, 0.1422, 0.0944], [1.0, 0.2807, 0.5037, 0.0833, 0.0778], [0.0, 0.2914, 0.5852, 0.0464, 0.0667], [0.0, 0.2195, 0.5889, 0.088, 0.063], [0.0, 0.149, 0.5819, 0.0448, 0.0602]]\n",
      "------------------------\n",
      "Labels for D:\\hackthan\\dataset\\test\\labels\\Asraf_14.txt:\n",
      "[[0.0, 0.8638, 0.4565, 0.2672, 0.3907], [0.0, 0.8659, 0.3319, 0.2557, 0.2361], [1.0, 0.9682, 0.1097, 0.0635, 0.1472], [1.0, 0.1294, 0.1361, 0.2578, 0.1741]]\n",
      "------------------------\n",
      "Labels for D:\\hackthan\\dataset\\test\\labels\\Asraf_19.txt:\n",
      "[[1.0, 0.1182, 0.2005, 0.2354, 0.2639], [0.0, 0.5086, 0.2222, 0.0797, 0.0815], [0.0, 0.9383, 0.2176, 0.0328, 0.0648], [0.0, 0.9773, 0.2116, 0.0453, 0.0639]]\n",
      "------------------------\n",
      "Labels for D:\\hackthan\\dataset\\test\\labels\\Asraf_26.txt:\n",
      "[[1.0, 0.7245, 0.4056, 0.1542, 0.0926], [0.0, 0.2573, 0.481, 0.1021, 0.0657], [0.0, 0.1198, 0.4718, 0.1281, 0.0583], [0.0, 0.4094, 0.7921, 0.476, 0.4157], [0.0, 0.9039, 0.5861, 0.1922, 0.1852], [1.0, 0.9422, 0.6852, 0.1156, 0.6148]]\n",
      "------------------------\n",
      "Labels for D:\\hackthan\\dataset\\test\\labels\\Asraf_30.txt:\n",
      "[[1.0, 0.9508, 0.2412, 0.0984, 0.2398], [1.0, 0.1995, 0.1542, 0.2354, 0.1917], [1.0, 0.3706, 0.2037, 0.1005, 0.0926], [1.0, 0.5445, 0.1731, 0.1234, 0.0889], [1.0, 0.6586, 0.1435, 0.0776, 0.0907], [1.0, 0.7, 0.1597, 0.0604, 0.0472], [1.0, 0.0464, 0.2023, 0.0708, 0.125], [1.0, 0.2807, 0.8287, 0.5604, 0.3426], [0.0, 0.0797, 0.7069, 0.1573, 0.2157], [0.0, 0.4753, 0.6407, 0.2526, 0.2722], [3.0, 0.8633, 0.4861, 0.0401, 0.1093], [3.0, 0.8893, 0.381, 0.0307, 0.062], [0.0, 0.2026, 0.3667, 0.2073, 0.1056], [0.0, 0.3307, 0.4032, 0.1698, 0.1343], [0.0, 0.6281, 0.4278, 0.1042, 0.1833], [0.0, 0.5799, 0.3282, 0.0964, 0.1157], [0.0, 0.5461, 0.2815, 0.0901, 0.0833], [0.0, 0.6638, 0.2829, 0.0714, 0.0769], [0.0, 0.6339, 0.2542, 0.0677, 0.0657], [0.0, 0.7438, 0.2639, 0.0563, 0.0741], [0.0, 0.7063, 0.2491, 0.05, 0.0889], [0.0, 0.7424, 0.219, 0.037, 0.0417], [0.0, 0.0281, 0.3093, 0.0542, 0.0593], [0.0, 0.0729, 0.2843, 0.1198, 0.0852], [0.0, 0.199, 0.3139, 0.1615, 0.0833], [0.0, 0.1867, 0.2551, 0.0839, 0.0491], [0.0, 0.2536, 0.2722, 0.0604, 0.0722], [0.0, 0.8661, 0.2741, 0.0542, 0.0796], [0.0, 0.8021, 0.2486, 0.0417, 0.062], [0.0, 0.8883, 0.2394, 0.0286, 0.0657], [0.0, 0.8643, 0.2222, 0.0193, 0.0593], [1.0, 0.75, 0.1625, 0.0312, 0.0231], [1.0, 0.0115, 0.1787, 0.0219, 0.2704], [0.0, 0.6682, 0.2796, 0.0708, 0.0685], [0.0, 0.4727, 0.2306, 0.0432, 0.0296], [0.0, 0.5161, 0.2329, 0.0542, 0.0454], [0.0, 0.826, 0.2125, 0.026, 0.0509], [0.0, 0.8992, 0.194, 0.0193, 0.0361]]\n",
      "------------------------\n",
      "Labels for D:\\hackthan\\dataset\\test\\labels\\Asraf_33.txt:\n",
      "[[1.0, 0.8667, 0.7315, 0.2667, 0.5296], [1.0, 0.7529, 0.5009, 0.1724, 0.387], [1.0, 0.6661, 0.2676, 0.1052, 0.15], [0.0, 0.4065, 0.9167, 0.162, 0.1667], [0.0, 0.3271, 0.5625, 0.1135, 0.2213], [0.0, 0.4487, 0.4194, 0.0766, 0.1815], [0.0, 0.4583, 0.3014, 0.0573, 0.1231], [0.0, 0.3943, 0.2903, 0.049, 0.0806], [0.0, 0.4, 0.2352, 0.0469, 0.0778], [0.0, 0.4615, 0.2259, 0.051, 0.0852], [0.0, 0.4211, 0.1968, 0.0318, 0.0676], [0.0, 0.4656, 0.1824, 0.0344, 0.0593], [1.0, 0.6034, 0.4477, 0.1714, 0.5065], [0.0, 0.4354, 0.1477, 0.0292, 0.0454], [3.0, 0.4099, 0.1412, 0.0135, 0.0287], [0.0, 0.4727, 0.1384, 0.0307, 0.0491], [1.0, 0.5977, 0.162, 0.0766, 0.1037], [1.0, 0.5823, 0.1065, 0.0583, 0.0926], [1.0, 0.5365, 0.1241, 0.0458, 0.1185], [1.0, 0.5471, 0.0523, 0.0391, 0.0509], [1.0, 0.5151, 0.0278, 0.0292, 0.0537], [1.0, 0.4732, 0.0273, 0.0297, 0.0509], [1.0, 0.4862, 0.0699, 0.0245, 0.0602], [0.0, 0.444, 0.0597, 0.0161, 0.025], [0.0, 0.4388, 0.106, 0.0286, 0.0306], [0.0, 0.1781, 0.4403, 0.1177, 0.1398], [0.0, 0.0677, 0.4801, 0.1344, 0.1398], [0.0, 0.0414, 0.4319, 0.0786, 0.1046], [0.0, 0.1568, 0.375, 0.1052, 0.1111], [0.0, 0.0893, 0.3407, 0.0932, 0.0981], [0.0, 0.0372, 0.281, 0.0682, 0.0398], [0.0, 0.1633, 0.2023, 0.0495, 0.0565], [0.0, 0.2516, 0.3287, 0.0865, 0.1056], [0.0, 0.2979, 0.2657, 0.0573, 0.1], [0.0, 0.2057, 0.2912, 0.0417, 0.0824], [0.0, 0.2557, 0.244, 0.0479, 0.0954], [0.0, 0.2786, 0.1866, 0.0448, 0.0583], [0.0, 0.2562, 0.1569, 0.0344, 0.0454], [0.0, 0.3594, 0.156, 0.0323, 0.0435], [0.0, 0.3312, 0.1431, 0.026, 0.0398], [1.0, 0.2698, 0.0782, 0.0458, 0.0546], [0.0, 0.3768, 0.1208, 0.0224, 0.0491], [0.0, 0.4159, 0.0634, 0.0172, 0.025], [0.0, 0.3802, 0.0852, 0.0198, 0.0296]]\n",
      "------------------------\n",
      "Labels for D:\\hackthan\\dataset\\test\\labels\\Asraf_53.txt:\n",
      "[[3.0, 0.3359, 0.7787, 0.0615, 0.1241], [3.0, 0.3805, 0.7449, 0.0234, 0.0713], [0.0, 0.4216, 0.7097, 0.0474, 0.0769], [0.0, 0.675, 0.7523, 0.1167, 0.1509], [0.0, 0.4518, 0.7278, 0.0339, 0.1019], [0.0, 0.8594, 0.8148, 0.2771, 0.3704], [1.0, 0.8659, 0.6269, 0.1474, 0.0963], [0.0, 0.8094, 0.7139, 0.1052, 0.1]]\n",
      "------------------------\n",
      "Labels for D:\\hackthan\\dataset\\test\\labels\\Asraf_59.txt:\n",
      "[[0.0, 0.4151, 0.725, 0.0583, 0.0963], [0.0, 0.8164, 0.8324, 0.3672, 0.3185], [0.0, 0.6492, 0.7333, 0.0349, 0.0907]]\n",
      "------------------------\n"
     ]
    }
   ],
   "source": [
    "image_paths, annotation_paths = load_sample_data(valid_directory)\n",
    "\n",
    "\n",
    "for i in range(min(10, len(annotation_paths))):\n",
    "    sample_annotations = load_annotations(annotation_paths[i])\n",
    "    print(f\"Labels for {annotation_paths[i]}:\")\n",
    "    print(sample_annotations)\n",
    "    print(\"------------------------\")"
   ]
  },
  {
   "cell_type": "code",
   "execution_count": 21,
   "id": "32e1981b",
   "metadata": {},
   "outputs": [],
   "source": [
    "def load_sample_data(data_dir):\n",
    "    image_dir = os.path.join(data_dir, 'images')\n",
    "    label_dir = os.path.join(data_dir, 'labels')\n",
    "\n",
    "    image_paths, label_paths = [], []\n",
    "\n",
    "    # Collect image and label file paths\n",
    "    for filename in os.listdir(image_dir):\n",
    "        if filename.endswith('.jpg'):\n",
    "            image_paths.append(os.path.join(image_dir, filename))\n",
    "            label_paths.append(os.path.join(label_dir, filename.replace('.jpg', '.txt')))\n",
    "\n",
    "    return image_paths, label_paths\n",
    "\n",
    "def load_annotations(annotation_path):\n",
    "    with open(annotation_path, 'r') as file:\n",
    "        lines = file.readlines()\n",
    "        # Assuming YOLO format: class, x_center, y_center, width, height\n",
    "        annotations = [list(map(float, line.strip().split())) for line in lines]\n",
    "\n",
    "    return annotations"
   ]
  },
  {
   "cell_type": "code",
   "execution_count": 22,
   "id": "95d90bb1",
   "metadata": {},
   "outputs": [],
   "source": [
    "def display_sample(image_path, annotations):\n",
    "    image = cv2.imread(image_path)\n",
    "    image = cv2.cvtColor(image, cv2.COLOR_BGR2RGB)\n",
    "\n",
    "    fig, ax = plt.subplots(1)\n",
    "    ax.imshow(image)\n",
    "\n",
    "    for annotation in annotations:\n",
    "        class_label, x_center, y_center, width, height = annotation\n",
    "        x, y, w, h = x_center, y_center, width, height\n",
    "\n",
    "        # Convert YOLO coordinates to bounding box coordinates\n",
    "        x *= image.shape[1]\n",
    "        y *= image.shape[0]\n",
    "        w *= image.shape[1]\n",
    "        h *= image.shape[0]\n",
    "\n",
    "        # Calculate top-left corner coordinates\n",
    "        x -= w / 2\n",
    "        y -= h / 2\n",
    "\n",
    "        # Create a rectangle patch\n",
    "        rect = patches.Rectangle((x, y), w, h, linewidth=1, edgecolor='r', facecolor='none')\n",
    "        ax.add_patch(rect)\n",
    "\n",
    "        # Display class label\n",
    "        plt.text(x, y, f'{int(class_label)}', color='r')\n",
    "\n",
    "    plt.show()\n",
    "\n",
    "\n",
    "image_paths, annotation_paths = load_sample_data(train_directory)"
   ]
  },
  {
   "cell_type": "code",
   "execution_count": 27,
   "id": "709107c1",
   "metadata": {},
   "outputs": [],
   "source": [
    "import cv2"
   ]
  },
  {
   "cell_type": "code",
   "execution_count": 28,
   "id": "2dc4c4ae",
   "metadata": {},
   "outputs": [
    {
     "ename": "NameError",
     "evalue": "name 'patches' is not defined",
     "output_type": "error",
     "traceback": [
      "\u001b[31m---------------------------------------------------------------------------\u001b[39m",
      "\u001b[31mNameError\u001b[39m                                 Traceback (most recent call last)",
      "\u001b[36mCell\u001b[39m\u001b[36m \u001b[39m\u001b[32mIn[28]\u001b[39m\u001b[32m, line 5\u001b[39m\n\u001b[32m      3\u001b[39m sample_image_path = image_paths[i]\n\u001b[32m      4\u001b[39m sample_annotations = load_annotations(annotation_paths[i])\n\u001b[32m----> \u001b[39m\u001b[32m5\u001b[39m \u001b[43mdisplay_sample\u001b[49m\u001b[43m(\u001b[49m\u001b[43msample_image_path\u001b[49m\u001b[43m,\u001b[49m\u001b[43m \u001b[49m\u001b[43msample_annotations\u001b[49m\u001b[43m)\u001b[49m\n\u001b[32m      6\u001b[39m \u001b[38;5;28mprint\u001b[39m(\u001b[33mf\u001b[39m\u001b[33m\"\u001b[39m\u001b[33mAnnotations plotted for \u001b[39m\u001b[38;5;132;01m{\u001b[39;00msample_image_path\u001b[38;5;132;01m}\u001b[39;00m\u001b[33m\"\u001b[39m)\n",
      "\u001b[36mCell\u001b[39m\u001b[36m \u001b[39m\u001b[32mIn[22]\u001b[39m\u001b[32m, line 23\u001b[39m, in \u001b[36mdisplay_sample\u001b[39m\u001b[34m(image_path, annotations)\u001b[39m\n\u001b[32m     20\u001b[39m y -= h / \u001b[32m2\u001b[39m\n\u001b[32m     22\u001b[39m \u001b[38;5;66;03m# Create a rectangle patch\u001b[39;00m\n\u001b[32m---> \u001b[39m\u001b[32m23\u001b[39m rect = \u001b[43mpatches\u001b[49m.Rectangle((x, y), w, h, linewidth=\u001b[32m1\u001b[39m, edgecolor=\u001b[33m'\u001b[39m\u001b[33mr\u001b[39m\u001b[33m'\u001b[39m, facecolor=\u001b[33m'\u001b[39m\u001b[33mnone\u001b[39m\u001b[33m'\u001b[39m)\n\u001b[32m     24\u001b[39m ax.add_patch(rect)\n\u001b[32m     26\u001b[39m \u001b[38;5;66;03m# Display class label\u001b[39;00m\n",
      "\u001b[31mNameError\u001b[39m: name 'patches' is not defined"
     ]
    },
    {
     "data": {
      "image/png": "[encoded data removed]",
      "text/plain": [
       "<Figure size 640x480 with 1 Axes>"
      ]
     },
     "metadata": {},
     "output_type": "display_data"
    }
   ],
   "source": [
    "# Display and plot annotations for the first 10 images\n",
    "for i in range(min(10, len(image_paths))):\n",
    "    sample_image_path = image_paths[i]\n",
    "    sample_annotations = load_annotations(annotation_paths[i])\n",
    "    display_sample(sample_image_path, sample_annotations)\n",
    "    print(f\"Annotations plotted for {sample_image_path}\")"
   ]
  },
  {
   "cell_type": "code",
   "execution_count": 24,
   "id": "2e78f260",
   "metadata": {},
   "outputs": [],
   "source": [
    "from ultralytics import YOLO\n",
    "from IPython.display import display, Image"
   ]
  },
  {
   "cell_type": "code",
   "execution_count": null,
   "id": "228ae8d0",
   "metadata": {},
   "outputs": [],
   "source": [
    "model=YOLO(\"yolo11n.pt\")"
   ]
  },
  {
   "cell_type": "code",
   "execution_count": null,
   "id": "ac4ddd0b",
   "metadata": {},
   "outputs": [
    {
     "name": "stdout",
     "output_type": "stream",
     "text": [
      "New https://pypi.org/project/ultralytics/8.3.204 available  Update with 'pip install -U ultralytics'\n",
      "Ultralytics 8.3.160  Python-3.11.9 torch-2.7.1+cpu CPU (12th Gen Intel Core(TM) i5-12400)\n",
      "\u001b[34m\u001b[1mengine\\trainer: \u001b[0magnostic_nms=False, amp=True, augment=False, auto_augment=randaugment, batch=16, bgr=0.0, box=7.5, cache=False, cfg=None, classes=None, close_mosaic=10, cls=0.5, conf=None, copy_paste=0.0, copy_paste_mode=flip, cos_lr=False, cutmix=0.0, data=I:\\2025\\hackthan\\process\\vehicle_data.yaml, degrees=0.0, deterministic=True, device=cpu, dfl=1.5, dnn=False, dropout=0.0, dynamic=False, embed=None, epochs=50, erasing=0.4, exist_ok=False, fliplr=0.5, flipud=0.0, format=torchscript, fraction=1.0, freeze=None, half=False, hsv_h=0.015, hsv_s=0.7, hsv_v=0.4, imgsz=640, int8=False, iou=0.7, keras=False, kobj=1.0, line_width=None, lr0=0.01, lrf=0.01, mask_ratio=4, max_det=300, mixup=0.0, mode=train, model=yolo11n.pt, momentum=0.937, mosaic=1.0, multi_scale=False, name=train2, nbs=64, nms=False, opset=None, optimize=False, optimizer=auto, overlap_mask=True, patience=100, perspective=0.0, plots=True, pose=12.0, pretrained=True, profile=False, project=None, rect=False, resume=False, retina_masks=False, save=True, save_conf=False, save_crop=False, save_dir=runs\\detect\\train2, save_frames=False, save_json=False, save_period=-1, save_txt=False, scale=0.5, seed=0, shear=0.0, show=False, show_boxes=True, show_conf=True, show_labels=True, simplify=True, single_cls=False, source=None, split=val, stream_buffer=False, task=detect, time=None, tracker=botsort.yaml, translate=0.1, val=True, verbose=True, vid_stride=1, visualize=False, warmup_bias_lr=0.1, warmup_epochs=3.0, warmup_momentum=0.8, weight_decay=0.0005, workers=8, workspace=None\n",
      "Overriding model.yaml nc=80 with nc=4\n",
      "\n",
      "                   from  n    params  module                                       arguments                     \n",
      "  0                  -1  1       464  ultralytics.nn.modules.conv.Conv             [3, 16, 3, 2]                 \n",
      "  1                  -1  1      4672  ultralytics.nn.modules.conv.Conv             [16, 32, 3, 2]                \n",
      "  2                  -1  1      6640  ultralytics.nn.modules.block.C3k2            [32, 64, 1, False, 0.25]      \n",
      "  3                  -1  1     36992  ultralytics.nn.modules.conv.Conv             [64, 64, 3, 2]                \n",
      "  4                  -1  1     26080  ultralytics.nn.modules.block.C3k2            [64, 128, 1, False, 0.25]     \n",
      "  5                  -1  1    147712  ultralytics.nn.modules.conv.Conv             [128, 128, 3, 2]              \n",
      "  6                  -1  1     87040  ultralytics.nn.modules.block.C3k2            [128, 128, 1, True]           \n",
      "  7                  -1  1    295424  ultralytics.nn.modules.conv.Conv             [128, 256, 3, 2]              \n",
      "  8                  -1  1    346112  ultralytics.nn.modules.block.C3k2            [256, 256, 1, True]           \n",
      "  9                  -1  1    164608  ultralytics.nn.modules.block.SPPF            [256, 256, 5]                 \n",
      " 10                  -1  1    249728  ultralytics.nn.modules.block.C2PSA           [256, 256, 1]                 \n",
      " 11                  -1  1         0  torch.nn.modules.upsampling.Upsample         [None, 2, 'nearest']          \n",
      " 12             [-1, 6]  1         0  ultralytics.nn.modules.conv.Concat           [1]                           \n",
      " 13                  -1  1    111296  ultralytics.nn.modules.block.C3k2            [384, 128, 1, False]          \n",
      " 14                  -1  1         0  torch.nn.modules.upsampling.Upsample         [None, 2, 'nearest']          \n",
      " 15             [-1, 4]  1         0  ultralytics.nn.modules.conv.Concat           [1]                           \n",
      " 16                  -1  1     32096  ultralytics.nn.modules.block.C3k2            [256, 64, 1, False]           \n",
      " 17                  -1  1     36992  ultralytics.nn.modules.conv.Conv             [64, 64, 3, 2]                \n",
      " 18            [-1, 13]  1         0  ultralytics.nn.modules.conv.Concat           [1]                           \n",
      " 19                  -1  1     86720  ultralytics.nn.modules.block.C3k2            [192, 128, 1, False]          \n",
      " 20                  -1  1    147712  ultralytics.nn.modules.conv.Conv             [128, 128, 3, 2]              \n",
      " 21            [-1, 10]  1         0  ultralytics.nn.modules.conv.Concat           [1]                           \n",
      " 22                  -1  1    378880  ultralytics.nn.modules.block.C3k2            [384, 256, 1, True]           \n",
      " 23        [16, 19, 22]  1    431452  ultralytics.nn.modules.head.Detect           [4, [64, 128, 256]]           \n",
      "YOLO11n summary: 181 layers, 2,590,620 parameters, 2,590,604 gradients, 6.4 GFLOPs\n",
      "\n",
      "Transferred 448/499 items from pretrained weights\n",
      "Freezing layer 'model.23.dfl.conv.weight'\n",
      "\u001b[34m\u001b[1mtrain: \u001b[0mFast image access  (ping: 0.40.3 ms, read: 11.92.1 MB/s, size: 322.7 KB)\n"
     ]
    },
    {
     "name": "stderr",
     "output_type": "stream",
     "text": [
      "\u001b[34m\u001b[1mtrain: \u001b[0mScanning I:\\2025\\hackthan\\dataset\\train\\labels.cache... 2079 images, 255 backgrounds, 106 corrupt: 100%|██████████| 2291/2291 [00:00<?, ?it/s]"
     ]
    },
    {
     "name": "stdout",
     "output_type": "stream",
     "text": [
      "\u001b[34m\u001b[1mtrain: \u001b[0mI:\\2025\\hackthan\\dataset\\train\\labels\\Dipto_ 330.JPG: ignoring corrupt image/label: cannot identify image file 'I:\\\\2025\\\\hackthan\\\\dataset\\\\train\\\\labels\\\\Dipto_ 330.JPG'\n",
      "\u001b[34m\u001b[1mtrain: \u001b[0mI:\\2025\\hackthan\\dataset\\train\\labels\\Dipto_344.JPG: ignoring corrupt image/label: cannot identify image file 'I:\\\\2025\\\\hackthan\\\\dataset\\\\train\\\\labels\\\\Dipto_344.JPG'\n",
      "\u001b[34m\u001b[1mtrain: \u001b[0mI:\\2025\\hackthan\\dataset\\train\\labels\\Dipto_345.JPG: ignoring corrupt image/label: cannot identify image file 'I:\\\\2025\\\\hackthan\\\\dataset\\\\train\\\\labels\\\\Dipto_345.JPG'\n",
      "\u001b[34m\u001b[1mtrain: \u001b[0mI:\\2025\\hackthan\\dataset\\train\\labels\\Dipto_346.JPG: ignoring corrupt image/label: cannot identify image file 'I:\\\\2025\\\\hackthan\\\\dataset\\\\train\\\\labels\\\\Dipto_346.JPG'\n",
      "\u001b[34m\u001b[1mtrain: \u001b[0mI:\\2025\\hackthan\\dataset\\train\\labels\\Dipto_349.JPG: ignoring corrupt image/label: cannot identify image file 'I:\\\\2025\\\\hackthan\\\\dataset\\\\train\\\\labels\\\\Dipto_349.JPG'\n",
      "\u001b[34m\u001b[1mtrain: \u001b[0mI:\\2025\\hackthan\\dataset\\train\\labels\\Dipto_525.JPG: ignoring corrupt image/label: cannot identify image file 'I:\\\\2025\\\\hackthan\\\\dataset\\\\train\\\\labels\\\\Dipto_525.JPG'\n",
      "\u001b[34m\u001b[1mtrain: \u001b[0mI:\\2025\\hackthan\\dataset\\train\\labels\\Dipto_526.JPG: ignoring corrupt image/label: cannot identify image file 'I:\\\\2025\\\\hackthan\\\\dataset\\\\train\\\\labels\\\\Dipto_526.JPG'\n",
      "\u001b[34m\u001b[1mtrain: \u001b[0mI:\\2025\\hackthan\\dataset\\train\\labels\\Dipto_527.JPG: ignoring corrupt image/label: cannot identify image file 'I:\\\\2025\\\\hackthan\\\\dataset\\\\train\\\\labels\\\\Dipto_527.JPG'\n",
      "\u001b[34m\u001b[1mtrain: \u001b[0mI:\\2025\\hackthan\\dataset\\train\\labels\\Dipto_528.JPG: ignoring corrupt image/label: cannot identify image file 'I:\\\\2025\\\\hackthan\\\\dataset\\\\train\\\\labels\\\\Dipto_528.JPG'\n",
      "\u001b[34m\u001b[1mtrain: \u001b[0mI:\\2025\\hackthan\\dataset\\train\\labels\\Dipto_529.JPG: ignoring corrupt image/label: cannot identify image file 'I:\\\\2025\\\\hackthan\\\\dataset\\\\train\\\\labels\\\\Dipto_529.JPG'\n",
      "\u001b[34m\u001b[1mtrain: \u001b[0mI:\\2025\\hackthan\\dataset\\train\\labels\\Dipto_530.JPG: ignoring corrupt image/label: cannot identify image file 'I:\\\\2025\\\\hackthan\\\\dataset\\\\train\\\\labels\\\\Dipto_530.JPG'\n",
      "\u001b[34m\u001b[1mtrain: \u001b[0mI:\\2025\\hackthan\\dataset\\train\\labels\\Dipto_531.JPG: ignoring corrupt image/label: cannot identify image file 'I:\\\\2025\\\\hackthan\\\\dataset\\\\train\\\\labels\\\\Dipto_531.JPG'\n",
      "\u001b[34m\u001b[1mtrain: \u001b[0mI:\\2025\\hackthan\\dataset\\train\\labels\\Dipto_532.JPG: ignoring corrupt image/label: cannot identify image file 'I:\\\\2025\\\\hackthan\\\\dataset\\\\train\\\\labels\\\\Dipto_532.JPG'\n",
      "\u001b[34m\u001b[1mtrain: \u001b[0mI:\\2025\\hackthan\\dataset\\train\\labels\\Dipto_533.JPG: ignoring corrupt image/label: cannot identify image file 'I:\\\\2025\\\\hackthan\\\\dataset\\\\train\\\\labels\\\\Dipto_533.JPG'\n",
      "\u001b[34m\u001b[1mtrain: \u001b[0mI:\\2025\\hackthan\\dataset\\train\\labels\\Dipto_534.JPG: ignoring corrupt image/label: cannot identify image file 'I:\\\\2025\\\\hackthan\\\\dataset\\\\train\\\\labels\\\\Dipto_534.JPG'\n",
      "\u001b[34m\u001b[1mtrain: \u001b[0mI:\\2025\\hackthan\\dataset\\train\\labels\\Dipto_535.JPG: ignoring corrupt image/label: cannot identify image file 'I:\\\\2025\\\\hackthan\\\\dataset\\\\train\\\\labels\\\\Dipto_535.JPG'\n",
      "\u001b[34m\u001b[1mtrain: \u001b[0mI:\\2025\\hackthan\\dataset\\train\\labels\\Dipto_537.JPG: ignoring corrupt image/label: cannot identify image file 'I:\\\\2025\\\\hackthan\\\\dataset\\\\train\\\\labels\\\\Dipto_537.JPG'\n",
      "\u001b[34m\u001b[1mtrain: \u001b[0mI:\\2025\\hackthan\\dataset\\train\\labels\\Dipto_538.JPG: ignoring corrupt image/label: cannot identify image file 'I:\\\\2025\\\\hackthan\\\\dataset\\\\train\\\\labels\\\\Dipto_538.JPG'\n",
      "\u001b[34m\u001b[1mtrain: \u001b[0mI:\\2025\\hackthan\\dataset\\train\\labels\\Dipto_539.JPG: ignoring corrupt image/label: cannot identify image file 'I:\\\\2025\\\\hackthan\\\\dataset\\\\train\\\\labels\\\\Dipto_539.JPG'\n",
      "\u001b[34m\u001b[1mtrain: \u001b[0mI:\\2025\\hackthan\\dataset\\train\\labels\\Dipto_540.JPG: ignoring corrupt image/label: cannot identify image file 'I:\\\\2025\\\\hackthan\\\\dataset\\\\train\\\\labels\\\\Dipto_540.JPG'\n",
      "\u001b[34m\u001b[1mtrain: \u001b[0mI:\\2025\\hackthan\\dataset\\train\\labels\\Dipto_541.JPG: ignoring corrupt image/label: cannot identify image file 'I:\\\\2025\\\\hackthan\\\\dataset\\\\train\\\\labels\\\\Dipto_541.JPG'\n",
      "\u001b[34m\u001b[1mtrain: \u001b[0mI:\\2025\\hackthan\\dataset\\train\\labels\\Dipto_543.JPG: ignoring corrupt image/label: cannot identify image file 'I:\\\\2025\\\\hackthan\\\\dataset\\\\train\\\\labels\\\\Dipto_543.JPG'\n",
      "\u001b[34m\u001b[1mtrain: \u001b[0mI:\\2025\\hackthan\\dataset\\train\\labels\\Dipto_544.JPG: ignoring corrupt image/label: cannot identify image file 'I:\\\\2025\\\\hackthan\\\\dataset\\\\train\\\\labels\\\\Dipto_544.JPG'\n",
      "\u001b[34m\u001b[1mtrain: \u001b[0mI:\\2025\\hackthan\\dataset\\train\\labels\\Navid_352.JPG: ignoring corrupt image/label: cannot identify image file 'I:\\\\2025\\\\hackthan\\\\dataset\\\\train\\\\labels\\\\Navid_352.JPG'\n",
      "\u001b[34m\u001b[1mtrain: \u001b[0mI:\\2025\\hackthan\\dataset\\train\\labels\\Navid_355.JPG: ignoring corrupt image/label: cannot identify image file 'I:\\\\2025\\\\hackthan\\\\dataset\\\\train\\\\labels\\\\Navid_355.JPG'\n",
      "\u001b[34m\u001b[1mtrain: \u001b[0mI:\\2025\\hackthan\\dataset\\train\\labels\\Navid_395.JPG: ignoring corrupt image/label: cannot identify image file 'I:\\\\2025\\\\hackthan\\\\dataset\\\\train\\\\labels\\\\Navid_395.JPG'\n",
      "\u001b[34m\u001b[1mtrain: \u001b[0mI:\\2025\\hackthan\\dataset\\train\\labels\\Navid_579.JPG: ignoring corrupt image/label: cannot identify image file 'I:\\\\2025\\\\hackthan\\\\dataset\\\\train\\\\labels\\\\Navid_579.JPG'\n",
      "\u001b[34m\u001b[1mtrain: \u001b[0mI:\\2025\\hackthan\\dataset\\train\\labels\\Navid_580.JPG: ignoring corrupt image/label: cannot identify image file 'I:\\\\2025\\\\hackthan\\\\dataset\\\\train\\\\labels\\\\Navid_580.JPG'\n",
      "\u001b[34m\u001b[1mtrain: \u001b[0mI:\\2025\\hackthan\\dataset\\train\\labels\\Navid_581.JPG: ignoring corrupt image/label: cannot identify image file 'I:\\\\2025\\\\hackthan\\\\dataset\\\\train\\\\labels\\\\Navid_581.JPG'\n",
      "\u001b[34m\u001b[1mtrain: \u001b[0mI:\\2025\\hackthan\\dataset\\train\\labels\\Navid_582.JPG: ignoring corrupt image/label: cannot identify image file 'I:\\\\2025\\\\hackthan\\\\dataset\\\\train\\\\labels\\\\Navid_582.JPG'\n",
      "\u001b[34m\u001b[1mtrain: \u001b[0mI:\\2025\\hackthan\\dataset\\train\\labels\\Navid_583.JPG: ignoring corrupt image/label: cannot identify image file 'I:\\\\2025\\\\hackthan\\\\dataset\\\\train\\\\labels\\\\Navid_583.JPG'\n",
      "\u001b[34m\u001b[1mtrain: \u001b[0mI:\\2025\\hackthan\\dataset\\train\\labels\\Navid_586.JPG: ignoring corrupt image/label: cannot identify image file 'I:\\\\2025\\\\hackthan\\\\dataset\\\\train\\\\labels\\\\Navid_586.JPG'\n",
      "\u001b[34m\u001b[1mtrain: \u001b[0mI:\\2025\\hackthan\\dataset\\train\\labels\\Navid_587.JPG: ignoring corrupt image/label: cannot identify image file 'I:\\\\2025\\\\hackthan\\\\dataset\\\\train\\\\labels\\\\Navid_587.JPG'\n",
      "\u001b[34m\u001b[1mtrain: \u001b[0mI:\\2025\\hackthan\\dataset\\train\\labels\\Navid_588.JPG: ignoring corrupt image/label: cannot identify image file 'I:\\\\2025\\\\hackthan\\\\dataset\\\\train\\\\labels\\\\Navid_588.JPG'\n",
      "\u001b[34m\u001b[1mtrain: \u001b[0mI:\\2025\\hackthan\\dataset\\train\\labels\\Navid_589.JPG: ignoring corrupt image/label: cannot identify image file 'I:\\\\2025\\\\hackthan\\\\dataset\\\\train\\\\labels\\\\Navid_589.JPG'\n",
      "\u001b[34m\u001b[1mtrain: \u001b[0mI:\\2025\\hackthan\\dataset\\train\\labels\\Navid_590.JPG: ignoring corrupt image/label: cannot identify image file 'I:\\\\2025\\\\hackthan\\\\dataset\\\\train\\\\labels\\\\Navid_590.JPG'\n",
      "\u001b[34m\u001b[1mtrain: \u001b[0mI:\\2025\\hackthan\\dataset\\train\\labels\\Navid_591.JPG: ignoring corrupt image/label: cannot identify image file 'I:\\\\2025\\\\hackthan\\\\dataset\\\\train\\\\labels\\\\Navid_591.JPG'\n",
      "\u001b[34m\u001b[1mtrain: \u001b[0mI:\\2025\\hackthan\\dataset\\train\\labels\\Navid_592.JPG: ignoring corrupt image/label: cannot identify image file 'I:\\\\2025\\\\hackthan\\\\dataset\\\\train\\\\labels\\\\Navid_592.JPG'\n",
      "\u001b[34m\u001b[1mtrain: \u001b[0mI:\\2025\\hackthan\\dataset\\train\\labels\\Navid_593.JPG: ignoring corrupt image/label: cannot identify image file 'I:\\\\2025\\\\hackthan\\\\dataset\\\\train\\\\labels\\\\Navid_593.JPG'\n",
      "\u001b[34m\u001b[1mtrain: \u001b[0mI:\\2025\\hackthan\\dataset\\train\\labels\\Navid_594.JPG: ignoring corrupt image/label: cannot identify image file 'I:\\\\2025\\\\hackthan\\\\dataset\\\\train\\\\labels\\\\Navid_594.JPG'\n",
      "\u001b[34m\u001b[1mtrain: \u001b[0mI:\\2025\\hackthan\\dataset\\train\\labels\\Navid_596.JPG: ignoring corrupt image/label: cannot identify image file 'I:\\\\2025\\\\hackthan\\\\dataset\\\\train\\\\labels\\\\Navid_596.JPG'\n",
      "\u001b[34m\u001b[1mtrain: \u001b[0mI:\\2025\\hackthan\\dataset\\train\\labels\\Navid_597.JPG: ignoring corrupt image/label: cannot identify image file 'I:\\\\2025\\\\hackthan\\\\dataset\\\\train\\\\labels\\\\Navid_597.JPG'\n",
      "\u001b[34m\u001b[1mtrain: \u001b[0mI:\\2025\\hackthan\\dataset\\train\\labels\\Navid_598.JPG: ignoring corrupt image/label: cannot identify image file 'I:\\\\2025\\\\hackthan\\\\dataset\\\\train\\\\labels\\\\Navid_598.JPG'\n",
      "\u001b[34m\u001b[1mtrain: \u001b[0mI:\\2025\\hackthan\\dataset\\train\\labels\\Navid_599.JPG: ignoring corrupt image/label: cannot identify image file 'I:\\\\2025\\\\hackthan\\\\dataset\\\\train\\\\labels\\\\Navid_599.JPG'\n",
      "\u001b[34m\u001b[1mtrain: \u001b[0mI:\\2025\\hackthan\\dataset\\train\\labels\\Navid_600.JPG: ignoring corrupt image/label: cannot identify image file 'I:\\\\2025\\\\hackthan\\\\dataset\\\\train\\\\labels\\\\Navid_600.JPG'\n",
      "\u001b[34m\u001b[1mtrain: \u001b[0mI:\\2025\\hackthan\\dataset\\train\\labels\\Navid_601.JPG: ignoring corrupt image/label: cannot identify image file 'I:\\\\2025\\\\hackthan\\\\dataset\\\\train\\\\labels\\\\Navid_601.JPG'\n",
      "\u001b[34m\u001b[1mtrain: \u001b[0mI:\\2025\\hackthan\\dataset\\train\\labels\\Navid_602.JPG: ignoring corrupt image/label: cannot identify image file 'I:\\\\2025\\\\hackthan\\\\dataset\\\\train\\\\labels\\\\Navid_602.JPG'\n",
      "\u001b[34m\u001b[1mtrain: \u001b[0mI:\\2025\\hackthan\\dataset\\train\\labels\\Navid_603.JPG: ignoring corrupt image/label: cannot identify image file 'I:\\\\2025\\\\hackthan\\\\dataset\\\\train\\\\labels\\\\Navid_603.JPG'\n",
      "\u001b[34m\u001b[1mtrain: \u001b[0mI:\\2025\\hackthan\\dataset\\train\\labels\\Navid_604.JPG: ignoring corrupt image/label: cannot identify image file 'I:\\\\2025\\\\hackthan\\\\dataset\\\\train\\\\labels\\\\Navid_604.JPG'\n",
      "\u001b[34m\u001b[1mtrain: \u001b[0mI:\\2025\\hackthan\\dataset\\train\\labels\\Navid_605.JPG: ignoring corrupt image/label: cannot identify image file 'I:\\\\2025\\\\hackthan\\\\dataset\\\\train\\\\labels\\\\Navid_605.JPG'\n",
      "\u001b[34m\u001b[1mtrain: \u001b[0mI:\\2025\\hackthan\\dataset\\train\\labels\\Navid_608.JPG: ignoring corrupt image/label: cannot identify image file 'I:\\\\2025\\\\hackthan\\\\dataset\\\\train\\\\labels\\\\Navid_608.JPG'\n",
      "\u001b[34m\u001b[1mtrain: \u001b[0mI:\\2025\\hackthan\\dataset\\train\\labels\\Navid_609.JPG: ignoring corrupt image/label: cannot identify image file 'I:\\\\2025\\\\hackthan\\\\dataset\\\\train\\\\labels\\\\Navid_609.JPG'\n",
      "\u001b[34m\u001b[1mtrain: \u001b[0mI:\\2025\\hackthan\\dataset\\train\\labels\\Navid_610.JPG: ignoring corrupt image/label: cannot identify image file 'I:\\\\2025\\\\hackthan\\\\dataset\\\\train\\\\labels\\\\Navid_610.JPG'\n",
      "\u001b[34m\u001b[1mtrain: \u001b[0mI:\\2025\\hackthan\\dataset\\train\\labels\\Navid_611.JPG: ignoring corrupt image/label: cannot identify image file 'I:\\\\2025\\\\hackthan\\\\dataset\\\\train\\\\labels\\\\Navid_611.JPG'\n",
      "\u001b[34m\u001b[1mtrain: \u001b[0mI:\\2025\\hackthan\\dataset\\train\\labels\\Navid_612.JPG: ignoring corrupt image/label: cannot identify image file 'I:\\\\2025\\\\hackthan\\\\dataset\\\\train\\\\labels\\\\Navid_612.JPG'\n",
      "\u001b[34m\u001b[1mtrain: \u001b[0mI:\\2025\\hackthan\\dataset\\train\\labels\\Navid_613.JPG: ignoring corrupt image/label: cannot identify image file 'I:\\\\2025\\\\hackthan\\\\dataset\\\\train\\\\labels\\\\Navid_613.JPG'\n",
      "\u001b[34m\u001b[1mtrain: \u001b[0mI:\\2025\\hackthan\\dataset\\train\\labels\\Navid_614.JPG: ignoring corrupt image/label: cannot identify image file 'I:\\\\2025\\\\hackthan\\\\dataset\\\\train\\\\labels\\\\Navid_614.JPG'\n",
      "\u001b[34m\u001b[1mtrain: \u001b[0mI:\\2025\\hackthan\\dataset\\train\\labels\\Navid_615.JPG: ignoring corrupt image/label: cannot identify image file 'I:\\\\2025\\\\hackthan\\\\dataset\\\\train\\\\labels\\\\Navid_615.JPG'\n",
      "\u001b[34m\u001b[1mtrain: \u001b[0mI:\\2025\\hackthan\\dataset\\train\\labels\\Navid_616.JPG: ignoring corrupt image/label: cannot identify image file 'I:\\\\2025\\\\hackthan\\\\dataset\\\\train\\\\labels\\\\Navid_616.JPG'\n",
      "\u001b[34m\u001b[1mtrain: \u001b[0mI:\\2025\\hackthan\\dataset\\train\\labels\\Navid_617.JPG: ignoring corrupt image/label: cannot identify image file 'I:\\\\2025\\\\hackthan\\\\dataset\\\\train\\\\labels\\\\Navid_617.JPG'\n",
      "\u001b[34m\u001b[1mtrain: \u001b[0mI:\\2025\\hackthan\\dataset\\train\\labels\\Navid_618.JPG: ignoring corrupt image/label: cannot identify image file 'I:\\\\2025\\\\hackthan\\\\dataset\\\\train\\\\labels\\\\Navid_618.JPG'\n",
      "\u001b[34m\u001b[1mtrain: \u001b[0mI:\\2025\\hackthan\\dataset\\train\\labels\\Navid_619.JPG: ignoring corrupt image/label: cannot identify image file 'I:\\\\2025\\\\hackthan\\\\dataset\\\\train\\\\labels\\\\Navid_619.JPG'\n",
      "\u001b[34m\u001b[1mtrain: \u001b[0mI:\\2025\\hackthan\\dataset\\train\\labels\\Navid_621.JPG: ignoring corrupt image/label: cannot identify image file 'I:\\\\2025\\\\hackthan\\\\dataset\\\\train\\\\labels\\\\Navid_621.JPG'\n",
      "\u001b[34m\u001b[1mtrain: \u001b[0mI:\\2025\\hackthan\\dataset\\train\\labels\\Navid_622.JPG: ignoring corrupt image/label: cannot identify image file 'I:\\\\2025\\\\hackthan\\\\dataset\\\\train\\\\labels\\\\Navid_622.JPG'\n",
      "\u001b[34m\u001b[1mtrain: \u001b[0mI:\\2025\\hackthan\\dataset\\train\\labels\\Navid_628.JPG: ignoring corrupt image/label: cannot identify image file 'I:\\\\2025\\\\hackthan\\\\dataset\\\\train\\\\labels\\\\Navid_628.JPG'\n",
      "\u001b[34m\u001b[1mtrain: \u001b[0mI:\\2025\\hackthan\\dataset\\train\\labels\\Navid_629.JPG: ignoring corrupt image/label: cannot identify image file 'I:\\\\2025\\\\hackthan\\\\dataset\\\\train\\\\labels\\\\Navid_629.JPG'\n",
      "\u001b[34m\u001b[1mtrain: \u001b[0mI:\\2025\\hackthan\\dataset\\train\\labels\\Navid_631.JPG: ignoring corrupt image/label: cannot identify image file 'I:\\\\2025\\\\hackthan\\\\dataset\\\\train\\\\labels\\\\Navid_631.JPG'\n",
      "\u001b[34m\u001b[1mtrain: \u001b[0mI:\\2025\\hackthan\\dataset\\train\\labels\\Navid_632.JPG: ignoring corrupt image/label: cannot identify image file 'I:\\\\2025\\\\hackthan\\\\dataset\\\\train\\\\labels\\\\Navid_632.JPG'\n",
      "\u001b[34m\u001b[1mtrain: \u001b[0mI:\\2025\\hackthan\\dataset\\train\\labels\\Navid_633.JPG: ignoring corrupt image/label: cannot identify image file 'I:\\\\2025\\\\hackthan\\\\dataset\\\\train\\\\labels\\\\Navid_633.JPG'\n",
      "\u001b[34m\u001b[1mtrain: \u001b[0mI:\\2025\\hackthan\\dataset\\train\\labels\\Navid_634.JPG: ignoring corrupt image/label: cannot identify image file 'I:\\\\2025\\\\hackthan\\\\dataset\\\\train\\\\labels\\\\Navid_634.JPG'\n",
      "\u001b[34m\u001b[1mtrain: \u001b[0mI:\\2025\\hackthan\\dataset\\train\\labels\\Navid_635.JPG: ignoring corrupt image/label: cannot identify image file 'I:\\\\2025\\\\hackthan\\\\dataset\\\\train\\\\labels\\\\Navid_635.JPG'\n",
      "\u001b[34m\u001b[1mtrain: \u001b[0mI:\\2025\\hackthan\\dataset\\train\\labels\\Navid_636.JPG: ignoring corrupt image/label: cannot identify image file 'I:\\\\2025\\\\hackthan\\\\dataset\\\\train\\\\labels\\\\Navid_636.JPG'\n",
      "\u001b[34m\u001b[1mtrain: \u001b[0mI:\\2025\\hackthan\\dataset\\train\\labels\\Navid_637.JPG: ignoring corrupt image/label: cannot identify image file 'I:\\\\2025\\\\hackthan\\\\dataset\\\\train\\\\labels\\\\Navid_637.JPG'\n",
      "\u001b[34m\u001b[1mtrain: \u001b[0mI:\\2025\\hackthan\\dataset\\train\\labels\\Navid_639.JPG: ignoring corrupt image/label: cannot identify image file 'I:\\\\2025\\\\hackthan\\\\dataset\\\\train\\\\labels\\\\Navid_639.JPG'\n",
      "\u001b[34m\u001b[1mtrain: \u001b[0mI:\\2025\\hackthan\\dataset\\train\\labels\\Navid_640.JPG: ignoring corrupt image/label: cannot identify image file 'I:\\\\2025\\\\hackthan\\\\dataset\\\\train\\\\labels\\\\Navid_640.JPG'\n",
      "\u001b[34m\u001b[1mtrain: \u001b[0mI:\\2025\\hackthan\\dataset\\train\\labels\\Navid_641.JPG: ignoring corrupt image/label: cannot identify image file 'I:\\\\2025\\\\hackthan\\\\dataset\\\\train\\\\labels\\\\Navid_641.JPG'\n",
      "\u001b[34m\u001b[1mtrain: \u001b[0mI:\\2025\\hackthan\\dataset\\train\\labels\\Navid_642.JPG: ignoring corrupt image/label: cannot identify image file 'I:\\\\2025\\\\hackthan\\\\dataset\\\\train\\\\labels\\\\Navid_642.JPG'\n",
      "\u001b[34m\u001b[1mtrain: \u001b[0mI:\\2025\\hackthan\\dataset\\train\\labels\\Navid_643.JPG: ignoring corrupt image/label: cannot identify image file 'I:\\\\2025\\\\hackthan\\\\dataset\\\\train\\\\labels\\\\Navid_643.JPG'\n",
      "\u001b[34m\u001b[1mtrain: \u001b[0mI:\\2025\\hackthan\\dataset\\train\\labels\\Navid_644.JPG: ignoring corrupt image/label: cannot identify image file 'I:\\\\2025\\\\hackthan\\\\dataset\\\\train\\\\labels\\\\Navid_644.JPG'\n",
      "\u001b[34m\u001b[1mtrain: \u001b[0mI:\\2025\\hackthan\\dataset\\train\\labels\\Navid_645.JPG: ignoring corrupt image/label: cannot identify image file 'I:\\\\2025\\\\hackthan\\\\dataset\\\\train\\\\labels\\\\Navid_645.JPG'\n",
      "\u001b[34m\u001b[1mtrain: \u001b[0mI:\\2025\\hackthan\\dataset\\train\\labels\\Navid_646.JPG: ignoring corrupt image/label: cannot identify image file 'I:\\\\2025\\\\hackthan\\\\dataset\\\\train\\\\labels\\\\Navid_646.JPG'\n",
      "\u001b[34m\u001b[1mtrain: \u001b[0mI:\\2025\\hackthan\\dataset\\train\\labels\\Navid_647.JPG: ignoring corrupt image/label: cannot identify image file 'I:\\\\2025\\\\hackthan\\\\dataset\\\\train\\\\labels\\\\Navid_647.JPG'\n",
      "\u001b[34m\u001b[1mtrain: \u001b[0mI:\\2025\\hackthan\\dataset\\train\\labels\\Navid_648.JPG: ignoring corrupt image/label: cannot identify image file 'I:\\\\2025\\\\hackthan\\\\dataset\\\\train\\\\labels\\\\Navid_648.JPG'\n",
      "\u001b[34m\u001b[1mtrain: \u001b[0mI:\\2025\\hackthan\\dataset\\train\\labels\\Navid_649.JPG: ignoring corrupt image/label: cannot identify image file 'I:\\\\2025\\\\hackthan\\\\dataset\\\\train\\\\labels\\\\Navid_649.JPG'\n",
      "\u001b[34m\u001b[1mtrain: \u001b[0mI:\\2025\\hackthan\\dataset\\train\\labels\\Navid_651.JPG: ignoring corrupt image/label: cannot identify image file 'I:\\\\2025\\\\hackthan\\\\dataset\\\\train\\\\labels\\\\Navid_651.JPG'\n",
      "\u001b[34m\u001b[1mtrain: \u001b[0mI:\\2025\\hackthan\\dataset\\train\\labels\\Navid_652.JPG: ignoring corrupt image/label: cannot identify image file 'I:\\\\2025\\\\hackthan\\\\dataset\\\\train\\\\labels\\\\Navid_652.JPG'\n",
      "\u001b[34m\u001b[1mtrain: \u001b[0mI:\\2025\\hackthan\\dataset\\train\\labels\\Navid_655.JPG: ignoring corrupt image/label: cannot identify image file 'I:\\\\2025\\\\hackthan\\\\dataset\\\\train\\\\labels\\\\Navid_655.JPG'\n",
      "\u001b[34m\u001b[1mtrain: \u001b[0mI:\\2025\\hackthan\\dataset\\train\\labels\\Navid_656.JPG: ignoring corrupt image/label: cannot identify image file 'I:\\\\2025\\\\hackthan\\\\dataset\\\\train\\\\labels\\\\Navid_656.JPG'\n",
      "\u001b[34m\u001b[1mtrain: \u001b[0mI:\\2025\\hackthan\\dataset\\train\\labels\\Navid_657.JPG: ignoring corrupt image/label: cannot identify image file 'I:\\\\2025\\\\hackthan\\\\dataset\\\\train\\\\labels\\\\Navid_657.JPG'\n",
      "\u001b[34m\u001b[1mtrain: \u001b[0mI:\\2025\\hackthan\\dataset\\train\\labels\\Navid_659.JPG: ignoring corrupt image/label: cannot identify image file 'I:\\\\2025\\\\hackthan\\\\dataset\\\\train\\\\labels\\\\Navid_659.JPG'\n",
      "\u001b[34m\u001b[1mtrain: \u001b[0mI:\\2025\\hackthan\\dataset\\train\\labels\\Navid_660.JPG: ignoring corrupt image/label: cannot identify image file 'I:\\\\2025\\\\hackthan\\\\dataset\\\\train\\\\labels\\\\Navid_660.JPG'\n",
      "\u001b[34m\u001b[1mtrain: \u001b[0mI:\\2025\\hackthan\\dataset\\train\\labels\\Navid_662.JPG: ignoring corrupt image/label: cannot identify image file 'I:\\\\2025\\\\hackthan\\\\dataset\\\\train\\\\labels\\\\Navid_662.JPG'\n",
      "\u001b[34m\u001b[1mtrain: \u001b[0mI:\\2025\\hackthan\\dataset\\train\\labels\\Numan_(295).JPG: ignoring corrupt image/label: cannot identify image file 'I:\\\\2025\\\\hackthan\\\\dataset\\\\train\\\\labels\\\\Numan_(295).JPG'\n",
      "\u001b[34m\u001b[1mtrain: \u001b[0mI:\\2025\\hackthan\\dataset\\train\\labels\\Numan_(297).JPG: ignoring corrupt image/label: cannot identify image file 'I:\\\\2025\\\\hackthan\\\\dataset\\\\train\\\\labels\\\\Numan_(297).JPG'\n",
      "\u001b[34m\u001b[1mtrain: \u001b[0mI:\\2025\\hackthan\\dataset\\train\\labels\\Numan_(298).JPG: ignoring corrupt image/label: cannot identify image file 'I:\\\\2025\\\\hackthan\\\\dataset\\\\train\\\\labels\\\\Numan_(298).JPG'\n",
      "\u001b[34m\u001b[1mtrain: \u001b[0mI:\\2025\\hackthan\\dataset\\train\\labels\\Numan_(299).JPG: ignoring corrupt image/label: cannot identify image file 'I:\\\\2025\\\\hackthan\\\\dataset\\\\train\\\\labels\\\\Numan_(299).JPG'\n",
      "\u001b[34m\u001b[1mtrain: \u001b[0mI:\\2025\\hackthan\\dataset\\train\\labels\\Numan_(300).JPG: ignoring corrupt image/label: cannot identify image file 'I:\\\\2025\\\\hackthan\\\\dataset\\\\train\\\\labels\\\\Numan_(300).JPG'\n",
      "\u001b[34m\u001b[1mtrain: \u001b[0mI:\\2025\\hackthan\\dataset\\train\\labels\\Numan_(301).JPG: ignoring corrupt image/label: cannot identify image file 'I:\\\\2025\\\\hackthan\\\\dataset\\\\train\\\\labels\\\\Numan_(301).JPG'\n",
      "\u001b[34m\u001b[1mtrain: \u001b[0mI:\\2025\\hackthan\\dataset\\train\\labels\\Numan_(303).JPG: ignoring corrupt image/label: cannot identify image file 'I:\\\\2025\\\\hackthan\\\\dataset\\\\train\\\\labels\\\\Numan_(303).JPG'\n",
      "\u001b[34m\u001b[1mtrain: \u001b[0mI:\\2025\\hackthan\\dataset\\train\\labels\\Numan_(304).JPG: ignoring corrupt image/label: cannot identify image file 'I:\\\\2025\\\\hackthan\\\\dataset\\\\train\\\\labels\\\\Numan_(304).JPG'\n",
      "\u001b[34m\u001b[1mtrain: \u001b[0mI:\\2025\\hackthan\\dataset\\train\\labels\\Numan_(305).JPG: ignoring corrupt image/label: cannot identify image file 'I:\\\\2025\\\\hackthan\\\\dataset\\\\train\\\\labels\\\\Numan_(305).JPG'\n",
      "\u001b[34m\u001b[1mtrain: \u001b[0mI:\\2025\\hackthan\\dataset\\train\\labels\\Numan_(306).JPG: ignoring corrupt image/label: cannot identify image file 'I:\\\\2025\\\\hackthan\\\\dataset\\\\train\\\\labels\\\\Numan_(306).JPG'\n",
      "\u001b[34m\u001b[1mtrain: \u001b[0mI:\\2025\\hackthan\\dataset\\train\\labels\\Numan_(307).JPG: ignoring corrupt image/label: cannot identify image file 'I:\\\\2025\\\\hackthan\\\\dataset\\\\train\\\\labels\\\\Numan_(307).JPG'\n",
      "\u001b[34m\u001b[1mtrain: \u001b[0mI:\\2025\\hackthan\\dataset\\train\\labels\\Numan_(308).JPG: ignoring corrupt image/label: cannot identify image file 'I:\\\\2025\\\\hackthan\\\\dataset\\\\train\\\\labels\\\\Numan_(308).JPG'\n",
      "\u001b[34m\u001b[1mtrain: \u001b[0mI:\\2025\\hackthan\\dataset\\train\\labels\\Numan_(309).JPG: ignoring corrupt image/label: cannot identify image file 'I:\\\\2025\\\\hackthan\\\\dataset\\\\train\\\\labels\\\\Numan_(309).JPG'\n",
      "\u001b[34m\u001b[1mtrain: \u001b[0mI:\\2025\\hackthan\\dataset\\train\\labels\\Numan_(310).JPG: ignoring corrupt image/label: cannot identify image file 'I:\\\\2025\\\\hackthan\\\\dataset\\\\train\\\\labels\\\\Numan_(310).JPG'\n"
     ]
    },
    {
     "name": "stderr",
     "output_type": "stream",
     "text": [
      "\n",
      "c:\\Program Files\\Python311\\Lib\\site-packages\\torch\\utils\\data\\dataloader.py:665: UserWarning: 'pin_memory' argument is set as true but no accelerator is found, then device pinned memory won't be used.\n",
      "  warnings.warn(warn_msg)\n"
     ]
    },
    {
     "name": "stdout",
     "output_type": "stream",
     "text": [
      "\u001b[34m\u001b[1mval: \u001b[0mFast image access  (ping: 0.20.1 ms, read: 10.16.2 MB/s, size: 523.4 KB)\n"
     ]
    },
    {
     "name": "stderr",
     "output_type": "stream",
     "text": [
      "\u001b[34m\u001b[1mval: \u001b[0mScanning I:\\2025\\hackthan\\dataset\\val\\labels.cache... 259 images, 30 backgrounds, 14 corrupt: 100%|██████████| 287/287 [00:00<?, ?it/s]"
     ]
    },
    {
     "name": "stdout",
     "output_type": "stream",
     "text": [
      "\u001b[34m\u001b[1mval: \u001b[0mI:\\2025\\hackthan\\dataset\\val\\labels\\Dipto_348.JPG: ignoring corrupt image/label: cannot identify image file 'I:\\\\2025\\\\hackthan\\\\dataset\\\\val\\\\labels\\\\Dipto_348.JPG'\n",
      "\u001b[34m\u001b[1mval: \u001b[0mI:\\2025\\hackthan\\dataset\\val\\labels\\Dipto_536.JPG: ignoring corrupt image/label: cannot identify image file 'I:\\\\2025\\\\hackthan\\\\dataset\\\\val\\\\labels\\\\Dipto_536.JPG'\n",
      "\u001b[34m\u001b[1mval: \u001b[0mI:\\2025\\hackthan\\dataset\\val\\labels\\Navid_230.JPG: ignoring corrupt image/label: cannot identify image file 'I:\\\\2025\\\\hackthan\\\\dataset\\\\val\\\\labels\\\\Navid_230.JPG'\n",
      "\u001b[34m\u001b[1mval: \u001b[0mI:\\2025\\hackthan\\dataset\\val\\labels\\Navid_578.JPG: ignoring corrupt image/label: cannot identify image file 'I:\\\\2025\\\\hackthan\\\\dataset\\\\val\\\\labels\\\\Navid_578.JPG'\n",
      "\u001b[34m\u001b[1mval: \u001b[0mI:\\2025\\hackthan\\dataset\\val\\labels\\Navid_584.JPG: ignoring corrupt image/label: cannot identify image file 'I:\\\\2025\\\\hackthan\\\\dataset\\\\val\\\\labels\\\\Navid_584.JPG'\n",
      "\u001b[34m\u001b[1mval: \u001b[0mI:\\2025\\hackthan\\dataset\\val\\labels\\Navid_585.JPG: ignoring corrupt image/label: cannot identify image file 'I:\\\\2025\\\\hackthan\\\\dataset\\\\val\\\\labels\\\\Navid_585.JPG'\n",
      "\u001b[34m\u001b[1mval: \u001b[0mI:\\2025\\hackthan\\dataset\\val\\labels\\Navid_595.JPG: ignoring corrupt image/label: cannot identify image file 'I:\\\\2025\\\\hackthan\\\\dataset\\\\val\\\\labels\\\\Navid_595.JPG'\n",
      "\u001b[34m\u001b[1mval: \u001b[0mI:\\2025\\hackthan\\dataset\\val\\labels\\Navid_607.JPG: ignoring corrupt image/label: cannot identify image file 'I:\\\\2025\\\\hackthan\\\\dataset\\\\val\\\\labels\\\\Navid_607.JPG'\n",
      "\u001b[34m\u001b[1mval: \u001b[0mI:\\2025\\hackthan\\dataset\\val\\labels\\Navid_626.JPG: ignoring corrupt image/label: cannot identify image file 'I:\\\\2025\\\\hackthan\\\\dataset\\\\val\\\\labels\\\\Navid_626.JPG'\n",
      "\u001b[34m\u001b[1mval: \u001b[0mI:\\2025\\hackthan\\dataset\\val\\labels\\Navid_630.JPG: ignoring corrupt image/label: cannot identify image file 'I:\\\\2025\\\\hackthan\\\\dataset\\\\val\\\\labels\\\\Navid_630.JPG'\n",
      "\u001b[34m\u001b[1mval: \u001b[0mI:\\2025\\hackthan\\dataset\\val\\labels\\Navid_638.JPG: ignoring corrupt image/label: cannot identify image file 'I:\\\\2025\\\\hackthan\\\\dataset\\\\val\\\\labels\\\\Navid_638.JPG'\n",
      "\u001b[34m\u001b[1mval: \u001b[0mI:\\2025\\hackthan\\dataset\\val\\labels\\Navid_650.JPG: ignoring corrupt image/label: cannot identify image file 'I:\\\\2025\\\\hackthan\\\\dataset\\\\val\\\\labels\\\\Navid_650.JPG'\n",
      "\u001b[34m\u001b[1mval: \u001b[0mI:\\2025\\hackthan\\dataset\\val\\labels\\Navid_653.JPG: ignoring corrupt image/label: cannot identify image file 'I:\\\\2025\\\\hackthan\\\\dataset\\\\val\\\\labels\\\\Navid_653.JPG'\n",
      "\u001b[34m\u001b[1mval: \u001b[0mI:\\2025\\hackthan\\dataset\\val\\labels\\Numan_(302).JPG: ignoring corrupt image/label: cannot identify image file 'I:\\\\2025\\\\hackthan\\\\dataset\\\\val\\\\labels\\\\Numan_(302).JPG'\n"
     ]
    },
    {
     "name": "stderr",
     "output_type": "stream",
     "text": [
      "\n",
      "c:\\Program Files\\Python311\\Lib\\site-packages\\torch\\utils\\data\\dataloader.py:665: UserWarning: 'pin_memory' argument is set as true but no accelerator is found, then device pinned memory won't be used.\n",
      "  warnings.warn(warn_msg)\n"
     ]
    },
    {
     "name": "stdout",
     "output_type": "stream",
     "text": [
      "Plotting labels to runs\\detect\\train2\\labels.jpg... \n",
      "\u001b[34m\u001b[1moptimizer:\u001b[0m 'optimizer=auto' found, ignoring 'lr0=0.01' and 'momentum=0.937' and determining best 'optimizer', 'lr0' and 'momentum' automatically... \n",
      "\u001b[34m\u001b[1moptimizer:\u001b[0m AdamW(lr=0.00125, momentum=0.9) with parameter groups 81 weight(decay=0.0), 88 weight(decay=0.0005), 87 bias(decay=0.0)\n",
      "Image sizes 640 train, 640 val\n",
      "Using 0 dataloader workers\n",
      "Logging results to \u001b[1mruns\\detect\\train2\u001b[0m\n",
      "Starting training for 50 epochs...\n",
      "\n",
      "      Epoch    GPU_mem   box_loss   cls_loss   dfl_loss  Instances       Size\n"
     ]
    },
    {
     "name": "stderr",
     "output_type": "stream",
     "text": [
      "       1/50         0G      1.391      2.723      1.177         36        640: 100%|██████████| 137/137 [08:40<00:00,  3.80s/it]\n",
      "                 Class     Images  Instances      Box(P          R      mAP50  mAP50-95): 100%|██████████| 9/9 [00:26<00:00,  2.97s/it]"
     ]
    },
    {
     "name": "stdout",
     "output_type": "stream",
     "text": [
      "                   all        273        897      0.548      0.307      0.371      0.221\n"
     ]
    },
    {
     "name": "stderr",
     "output_type": "stream",
     "text": [
      "\n"
     ]
    },
    {
     "name": "stdout",
     "output_type": "stream",
     "text": [
      "\n",
      "      Epoch    GPU_mem   box_loss   cls_loss   dfl_loss  Instances       Size\n"
     ]
    },
    {
     "name": "stderr",
     "output_type": "stream",
     "text": [
      "       2/50         0G      1.434      1.994      1.205         50        640: 100%|██████████| 137/137 [05:52<00:00,  2.57s/it]\n",
      "                 Class     Images  Instances      Box(P          R      mAP50  mAP50-95): 100%|██████████| 9/9 [00:13<00:00,  1.55s/it]"
     ]
    },
    {
     "name": "stdout",
     "output_type": "stream",
     "text": [
      "                   all        273        897       0.54      0.384      0.404      0.231\n"
     ]
    },
    {
     "name": "stderr",
     "output_type": "stream",
     "text": [
      "\n"
     ]
    },
    {
     "name": "stdout",
     "output_type": "stream",
     "text": [
      "\n",
      "      Epoch    GPU_mem   box_loss   cls_loss   dfl_loss  Instances       Size\n"
     ]
    },
    {
     "name": "stderr",
     "output_type": "stream",
     "text": [
      "       3/50         0G      1.472      1.918      1.236         89        640: 100%|██████████| 137/137 [05:51<00:00,  2.57s/it]\n",
      "                 Class     Images  Instances      Box(P          R      mAP50  mAP50-95): 100%|██████████| 9/9 [00:13<00:00,  1.47s/it]"
     ]
    },
    {
     "name": "stdout",
     "output_type": "stream",
     "text": [
      "                   all        273        897      0.472      0.393      0.391      0.219\n"
     ]
    },
    {
     "name": "stderr",
     "output_type": "stream",
     "text": [
      "\n"
     ]
    },
    {
     "name": "stdout",
     "output_type": "stream",
     "text": [
      "\n",
      "      Epoch    GPU_mem   box_loss   cls_loss   dfl_loss  Instances       Size\n"
     ]
    },
    {
     "name": "stderr",
     "output_type": "stream",
     "text": [
      "       4/50         0G      1.469      1.825      1.231         95        640: 100%|██████████| 137/137 [05:56<00:00,  2.61s/it]\n",
      "                 Class     Images  Instances      Box(P          R      mAP50  mAP50-95): 100%|██████████| 9/9 [00:12<00:00,  1.44s/it]"
     ]
    },
    {
     "name": "stdout",
     "output_type": "stream",
     "text": [
      "                   all        273        897      0.493      0.432      0.421      0.242\n"
     ]
    },
    {
     "name": "stderr",
     "output_type": "stream",
     "text": [
      "\n"
     ]
    },
    {
     "name": "stdout",
     "output_type": "stream",
     "text": [
      "\n",
      "      Epoch    GPU_mem   box_loss   cls_loss   dfl_loss  Instances       Size\n"
     ]
    },
    {
     "name": "stderr",
     "output_type": "stream",
     "text": [
      "       5/50         0G      1.424      1.615      1.214         85        640: 100%|██████████| 137/137 [05:54<00:00,  2.58s/it]\n",
      "                 Class     Images  Instances      Box(P          R      mAP50  mAP50-95): 100%|██████████| 9/9 [00:13<00:00,  1.44s/it]"
     ]
    },
    {
     "name": "stdout",
     "output_type": "stream",
     "text": [
      "                   all        273        897      0.527      0.469      0.452      0.259\n"
     ]
    },
    {
     "name": "stderr",
     "output_type": "stream",
     "text": [
      "\n"
     ]
    },
    {
     "name": "stdout",
     "output_type": "stream",
     "text": [
      "\n",
      "      Epoch    GPU_mem   box_loss   cls_loss   dfl_loss  Instances       Size\n"
     ]
    },
    {
     "name": "stderr",
     "output_type": "stream",
     "text": [
      "       6/50         0G      1.387      1.555      1.193         50        640: 100%|██████████| 137/137 [05:56<00:00,  2.60s/it]\n",
      "                 Class     Images  Instances      Box(P          R      mAP50  mAP50-95): 100%|██████████| 9/9 [00:12<00:00,  1.43s/it]"
     ]
    },
    {
     "name": "stdout",
     "output_type": "stream",
     "text": [
      "                   all        273        897      0.604      0.489      0.509      0.298\n"
     ]
    },
    {
     "name": "stderr",
     "output_type": "stream",
     "text": [
      "\n"
     ]
    },
    {
     "name": "stdout",
     "output_type": "stream",
     "text": [
      "\n",
      "      Epoch    GPU_mem   box_loss   cls_loss   dfl_loss  Instances       Size\n"
     ]
    },
    {
     "name": "stderr",
     "output_type": "stream",
     "text": [
      "       7/50         0G      1.365      1.458       1.18         29        640: 100%|██████████| 137/137 [05:56<00:00,  2.60s/it]\n",
      "                 Class     Images  Instances      Box(P          R      mAP50  mAP50-95): 100%|██████████| 9/9 [00:12<00:00,  1.42s/it]"
     ]
    },
    {
     "name": "stdout",
     "output_type": "stream",
     "text": [
      "                   all        273        897       0.52      0.498      0.498       0.29\n"
     ]
    },
    {
     "name": "stderr",
     "output_type": "stream",
     "text": [
      "\n"
     ]
    },
    {
     "name": "stdout",
     "output_type": "stream",
     "text": [
      "\n",
      "      Epoch    GPU_mem   box_loss   cls_loss   dfl_loss  Instances       Size\n"
     ]
    },
    {
     "name": "stderr",
     "output_type": "stream",
     "text": [
      "       8/50         0G      1.348      1.392       1.16         55        640: 100%|██████████| 137/137 [05:56<00:00,  2.61s/it]\n",
      "                 Class     Images  Instances      Box(P          R      mAP50  mAP50-95): 100%|██████████| 9/9 [00:12<00:00,  1.42s/it]"
     ]
    },
    {
     "name": "stdout",
     "output_type": "stream",
     "text": [
      "                   all        273        897      0.552      0.501      0.509      0.315\n"
     ]
    },
    {
     "name": "stderr",
     "output_type": "stream",
     "text": [
      "\n"
     ]
    },
    {
     "name": "stdout",
     "output_type": "stream",
     "text": [
      "\n",
      "      Epoch    GPU_mem   box_loss   cls_loss   dfl_loss  Instances       Size\n"
     ]
    },
    {
     "name": "stderr",
     "output_type": "stream",
     "text": [
      "       9/50         0G      1.344      1.373      1.156         69        640: 100%|██████████| 137/137 [05:56<00:00,  2.60s/it]\n",
      "                 Class     Images  Instances      Box(P          R      mAP50  mAP50-95): 100%|██████████| 9/9 [00:12<00:00,  1.43s/it]"
     ]
    },
    {
     "name": "stdout",
     "output_type": "stream",
     "text": [
      "                   all        273        897      0.594      0.503       0.53      0.321\n"
     ]
    },
    {
     "name": "stderr",
     "output_type": "stream",
     "text": [
      "\n"
     ]
    },
    {
     "name": "stdout",
     "output_type": "stream",
     "text": [
      "\n",
      "      Epoch    GPU_mem   box_loss   cls_loss   dfl_loss  Instances       Size\n"
     ]
    },
    {
     "name": "stderr",
     "output_type": "stream",
     "text": [
      "      10/50         0G      1.317      1.342       1.15         68        640: 100%|██████████| 137/137 [05:53<00:00,  2.58s/it]\n",
      "                 Class     Images  Instances      Box(P          R      mAP50  mAP50-95): 100%|██████████| 9/9 [00:12<00:00,  1.44s/it]"
     ]
    },
    {
     "name": "stdout",
     "output_type": "stream",
     "text": [
      "                   all        273        897      0.661      0.507      0.562      0.338\n"
     ]
    },
    {
     "name": "stderr",
     "output_type": "stream",
     "text": [
      "\n"
     ]
    },
    {
     "name": "stdout",
     "output_type": "stream",
     "text": [
      "\n",
      "      Epoch    GPU_mem   box_loss   cls_loss   dfl_loss  Instances       Size\n"
     ]
    },
    {
     "name": "stderr",
     "output_type": "stream",
     "text": [
      "      11/50         0G      1.289      1.268      1.136         45        640: 100%|██████████| 137/137 [05:55<00:00,  2.60s/it]\n",
      "                 Class     Images  Instances      Box(P          R      mAP50  mAP50-95): 100%|██████████| 9/9 [00:12<00:00,  1.41s/it]"
     ]
    },
    {
     "name": "stdout",
     "output_type": "stream",
     "text": [
      "                   all        273        897      0.605      0.513      0.549       0.34\n"
     ]
    },
    {
     "name": "stderr",
     "output_type": "stream",
     "text": [
      "\n"
     ]
    },
    {
     "name": "stdout",
     "output_type": "stream",
     "text": [
      "\n",
      "      Epoch    GPU_mem   box_loss   cls_loss   dfl_loss  Instances       Size\n"
     ]
    },
    {
     "name": "stderr",
     "output_type": "stream",
     "text": [
      "      12/50         0G      1.276      1.254       1.13         92        640: 100%|██████████| 137/137 [05:58<00:00,  2.62s/it]\n",
      "                 Class     Images  Instances      Box(P          R      mAP50  mAP50-95): 100%|██████████| 9/9 [00:12<00:00,  1.42s/it]"
     ]
    },
    {
     "name": "stdout",
     "output_type": "stream",
     "text": [
      "                   all        273        897      0.652       0.51      0.567      0.349\n"
     ]
    },
    {
     "name": "stderr",
     "output_type": "stream",
     "text": [
      "\n"
     ]
    },
    {
     "name": "stdout",
     "output_type": "stream",
     "text": [
      "\n",
      "      Epoch    GPU_mem   box_loss   cls_loss   dfl_loss  Instances       Size\n"
     ]
    },
    {
     "name": "stderr",
     "output_type": "stream",
     "text": [
      "      13/50         0G      1.273      1.238      1.119         18        640: 100%|██████████| 137/137 [05:59<00:00,  2.63s/it]\n",
      "                 Class     Images  Instances      Box(P          R      mAP50  mAP50-95): 100%|██████████| 9/9 [00:12<00:00,  1.42s/it]"
     ]
    },
    {
     "name": "stdout",
     "output_type": "stream",
     "text": [
      "                   all        273        897      0.629      0.551      0.591      0.357\n"
     ]
    },
    {
     "name": "stderr",
     "output_type": "stream",
     "text": [
      "\n"
     ]
    },
    {
     "name": "stdout",
     "output_type": "stream",
     "text": [
      "\n",
      "      Epoch    GPU_mem   box_loss   cls_loss   dfl_loss  Instances       Size\n"
     ]
    },
    {
     "name": "stderr",
     "output_type": "stream",
     "text": [
      "      14/50         0G      1.256      1.209       1.12         81        640: 100%|██████████| 137/137 [05:57<00:00,  2.61s/it]\n",
      "                 Class     Images  Instances      Box(P          R      mAP50  mAP50-95): 100%|██████████| 9/9 [00:12<00:00,  1.41s/it]"
     ]
    },
    {
     "name": "stdout",
     "output_type": "stream",
     "text": [
      "                   all        273        897      0.642      0.546      0.595      0.371\n"
     ]
    },
    {
     "name": "stderr",
     "output_type": "stream",
     "text": [
      "\n"
     ]
    },
    {
     "name": "stdout",
     "output_type": "stream",
     "text": [
      "\n",
      "      Epoch    GPU_mem   box_loss   cls_loss   dfl_loss  Instances       Size\n"
     ]
    },
    {
     "name": "stderr",
     "output_type": "stream",
     "text": [
      "      15/50         0G      1.246      1.196      1.111         51        640: 100%|██████████| 137/137 [05:59<00:00,  2.63s/it]\n",
      "                 Class     Images  Instances      Box(P          R      mAP50  mAP50-95): 100%|██████████| 9/9 [00:12<00:00,  1.40s/it]"
     ]
    },
    {
     "name": "stdout",
     "output_type": "stream",
     "text": [
      "                   all        273        897      0.693      0.535      0.599      0.372\n"
     ]
    },
    {
     "name": "stderr",
     "output_type": "stream",
     "text": [
      "\n"
     ]
    },
    {
     "name": "stdout",
     "output_type": "stream",
     "text": [
      "\n",
      "      Epoch    GPU_mem   box_loss   cls_loss   dfl_loss  Instances       Size\n"
     ]
    },
    {
     "name": "stderr",
     "output_type": "stream",
     "text": [
      "      16/50         0G      1.233       1.15      1.097         63        640: 100%|██████████| 137/137 [05:58<00:00,  2.62s/it]\n",
      "                 Class     Images  Instances      Box(P          R      mAP50  mAP50-95): 100%|██████████| 9/9 [00:12<00:00,  1.41s/it]"
     ]
    },
    {
     "name": "stdout",
     "output_type": "stream",
     "text": [
      "                   all        273        897      0.648      0.503      0.569      0.356\n"
     ]
    },
    {
     "name": "stderr",
     "output_type": "stream",
     "text": [
      "\n"
     ]
    },
    {
     "name": "stdout",
     "output_type": "stream",
     "text": [
      "\n",
      "      Epoch    GPU_mem   box_loss   cls_loss   dfl_loss  Instances       Size\n"
     ]
    },
    {
     "name": "stderr",
     "output_type": "stream",
     "text": [
      "      17/50         0G      1.227      1.144      1.102         72        640: 100%|██████████| 137/137 [05:56<00:00,  2.61s/it]\n",
      "                 Class     Images  Instances      Box(P          R      mAP50  mAP50-95): 100%|██████████| 9/9 [00:12<00:00,  1.43s/it]"
     ]
    },
    {
     "name": "stdout",
     "output_type": "stream",
     "text": [
      "                   all        273        897      0.641       0.55      0.584      0.369\n"
     ]
    },
    {
     "name": "stderr",
     "output_type": "stream",
     "text": [
      "\n"
     ]
    },
    {
     "name": "stdout",
     "output_type": "stream",
     "text": [
      "\n",
      "      Epoch    GPU_mem   box_loss   cls_loss   dfl_loss  Instances       Size\n"
     ]
    },
    {
     "name": "stderr",
     "output_type": "stream",
     "text": [
      "      18/50         0G      1.201      1.107      1.091         60        640: 100%|██████████| 137/137 [05:58<00:00,  2.61s/it]\n",
      "                 Class     Images  Instances      Box(P          R      mAP50  mAP50-95): 100%|██████████| 9/9 [00:12<00:00,  1.44s/it]"
     ]
    },
    {
     "name": "stdout",
     "output_type": "stream",
     "text": [
      "                   all        273        897      0.693      0.559      0.627      0.393\n"
     ]
    },
    {
     "name": "stderr",
     "output_type": "stream",
     "text": [
      "\n"
     ]
    },
    {
     "name": "stdout",
     "output_type": "stream",
     "text": [
      "\n",
      "      Epoch    GPU_mem   box_loss   cls_loss   dfl_loss  Instances       Size\n"
     ]
    },
    {
     "name": "stderr",
     "output_type": "stream",
     "text": [
      "      19/50         0G      1.177      1.086      1.079         43        640: 100%|██████████| 137/137 [06:01<00:00,  2.64s/it]\n",
      "                 Class     Images  Instances      Box(P          R      mAP50  mAP50-95): 100%|██████████| 9/9 [00:12<00:00,  1.41s/it]"
     ]
    },
    {
     "name": "stdout",
     "output_type": "stream",
     "text": [
      "                   all        273        897      0.687      0.572      0.621      0.397\n"
     ]
    },
    {
     "name": "stderr",
     "output_type": "stream",
     "text": [
      "\n"
     ]
    },
    {
     "name": "stdout",
     "output_type": "stream",
     "text": [
      "\n",
      "      Epoch    GPU_mem   box_loss   cls_loss   dfl_loss  Instances       Size\n"
     ]
    },
    {
     "name": "stderr",
     "output_type": "stream",
     "text": [
      "      20/50         0G      1.161      1.076      1.078         65        640: 100%|██████████| 137/137 [05:59<00:00,  2.62s/it]\n",
      "                 Class     Images  Instances      Box(P          R      mAP50  mAP50-95): 100%|██████████| 9/9 [00:12<00:00,  1.41s/it]"
     ]
    },
    {
     "name": "stdout",
     "output_type": "stream",
     "text": [
      "                   all        273        897       0.68      0.581      0.628      0.403\n"
     ]
    },
    {
     "name": "stderr",
     "output_type": "stream",
     "text": [
      "\n"
     ]
    },
    {
     "name": "stdout",
     "output_type": "stream",
     "text": [
      "\n",
      "      Epoch    GPU_mem   box_loss   cls_loss   dfl_loss  Instances       Size\n"
     ]
    },
    {
     "name": "stderr",
     "output_type": "stream",
     "text": [
      "      21/50         0G       1.19      1.078      1.077        103        640: 100%|██████████| 137/137 [05:56<00:00,  2.60s/it]\n",
      "                 Class     Images  Instances      Box(P          R      mAP50  mAP50-95): 100%|██████████| 9/9 [00:12<00:00,  1.42s/it]"
     ]
    },
    {
     "name": "stdout",
     "output_type": "stream",
     "text": [
      "                   all        273        897      0.686      0.595      0.648      0.417\n"
     ]
    },
    {
     "name": "stderr",
     "output_type": "stream",
     "text": [
      "\n"
     ]
    },
    {
     "name": "stdout",
     "output_type": "stream",
     "text": [
      "\n",
      "      Epoch    GPU_mem   box_loss   cls_loss   dfl_loss  Instances       Size\n"
     ]
    },
    {
     "name": "stderr",
     "output_type": "stream",
     "text": [
      "      22/50         0G      1.181      1.054      1.079         88        640: 100%|██████████| 137/137 [05:58<00:00,  2.62s/it]\n",
      "                 Class     Images  Instances      Box(P          R      mAP50  mAP50-95): 100%|██████████| 9/9 [00:12<00:00,  1.40s/it]"
     ]
    },
    {
     "name": "stdout",
     "output_type": "stream",
     "text": [
      "                   all        273        897      0.679      0.589      0.645      0.407\n"
     ]
    },
    {
     "name": "stderr",
     "output_type": "stream",
     "text": [
      "\n"
     ]
    },
    {
     "name": "stdout",
     "output_type": "stream",
     "text": [
      "\n",
      "      Epoch    GPU_mem   box_loss   cls_loss   dfl_loss  Instances       Size\n"
     ]
    },
    {
     "name": "stderr",
     "output_type": "stream",
     "text": [
      "      23/50         0G      1.162      1.035       1.07         45        640: 100%|██████████| 137/137 [06:01<00:00,  2.64s/it]\n",
      "                 Class     Images  Instances      Box(P          R      mAP50  mAP50-95): 100%|██████████| 9/9 [00:12<00:00,  1.41s/it]"
     ]
    },
    {
     "name": "stdout",
     "output_type": "stream",
     "text": [
      "                   all        273        897      0.714      0.601      0.673       0.44\n"
     ]
    },
    {
     "name": "stderr",
     "output_type": "stream",
     "text": [
      "\n"
     ]
    },
    {
     "name": "stdout",
     "output_type": "stream",
     "text": [
      "\n",
      "      Epoch    GPU_mem   box_loss   cls_loss   dfl_loss  Instances       Size\n"
     ]
    },
    {
     "name": "stderr",
     "output_type": "stream",
     "text": [
      "      24/50         0G      1.142      1.001      1.059         45        640: 100%|██████████| 137/137 [05:57<00:00,  2.61s/it]\n",
      "                 Class     Images  Instances      Box(P          R      mAP50  mAP50-95): 100%|██████████| 9/9 [00:12<00:00,  1.41s/it]"
     ]
    },
    {
     "name": "stdout",
     "output_type": "stream",
     "text": [
      "                   all        273        897      0.743      0.581      0.672       0.43\n"
     ]
    },
    {
     "name": "stderr",
     "output_type": "stream",
     "text": [
      "\n"
     ]
    },
    {
     "name": "stdout",
     "output_type": "stream",
     "text": [
      "\n",
      "      Epoch    GPU_mem   box_loss   cls_loss   dfl_loss  Instances       Size\n"
     ]
    },
    {
     "name": "stderr",
     "output_type": "stream",
     "text": [
      "      25/50         0G      1.143     0.9974      1.056         54        640: 100%|██████████| 137/137 [05:57<00:00,  2.61s/it]\n",
      "                 Class     Images  Instances      Box(P          R      mAP50  mAP50-95): 100%|██████████| 9/9 [00:12<00:00,  1.41s/it]"
     ]
    },
    {
     "name": "stdout",
     "output_type": "stream",
     "text": [
      "                   all        273        897      0.733      0.585      0.675      0.442\n"
     ]
    },
    {
     "name": "stderr",
     "output_type": "stream",
     "text": [
      "\n"
     ]
    },
    {
     "name": "stdout",
     "output_type": "stream",
     "text": [
      "\n",
      "      Epoch    GPU_mem   box_loss   cls_loss   dfl_loss  Instances       Size\n"
     ]
    },
    {
     "name": "stderr",
     "output_type": "stream",
     "text": [
      "      26/50         0G      1.126     0.9833      1.055         48        640: 100%|██████████| 137/137 [05:56<00:00,  2.60s/it]\n",
      "                 Class     Images  Instances      Box(P          R      mAP50  mAP50-95): 100%|██████████| 9/9 [00:12<00:00,  1.42s/it]"
     ]
    },
    {
     "name": "stdout",
     "output_type": "stream",
     "text": [
      "                   all        273        897      0.694      0.599      0.665      0.434\n"
     ]
    },
    {
     "name": "stderr",
     "output_type": "stream",
     "text": [
      "\n"
     ]
    },
    {
     "name": "stdout",
     "output_type": "stream",
     "text": [
      "\n",
      "      Epoch    GPU_mem   box_loss   cls_loss   dfl_loss  Instances       Size\n"
     ]
    },
    {
     "name": "stderr",
     "output_type": "stream",
     "text": [
      "      27/50         0G      1.126     0.9649      1.042         41        640: 100%|██████████| 137/137 [05:55<00:00,  2.59s/it]\n",
      "                 Class     Images  Instances      Box(P          R      mAP50  mAP50-95): 100%|██████████| 9/9 [00:12<00:00,  1.42s/it]"
     ]
    },
    {
     "name": "stdout",
     "output_type": "stream",
     "text": [
      "                   all        273        897      0.671      0.571      0.649      0.424\n"
     ]
    },
    {
     "name": "stderr",
     "output_type": "stream",
     "text": [
      "\n"
     ]
    },
    {
     "name": "stdout",
     "output_type": "stream",
     "text": [
      "\n",
      "      Epoch    GPU_mem   box_loss   cls_loss   dfl_loss  Instances       Size\n"
     ]
    },
    {
     "name": "stderr",
     "output_type": "stream",
     "text": [
      "      28/50         0G      1.113     0.9584      1.042         48        640: 100%|██████████| 137/137 [06:01<00:00,  2.64s/it]\n",
      "                 Class     Images  Instances      Box(P          R      mAP50  mAP50-95): 100%|██████████| 9/9 [00:12<00:00,  1.42s/it]"
     ]
    },
    {
     "name": "stdout",
     "output_type": "stream",
     "text": [
      "                   all        273        897      0.745       0.58      0.684      0.445\n"
     ]
    },
    {
     "name": "stderr",
     "output_type": "stream",
     "text": [
      "\n"
     ]
    },
    {
     "name": "stdout",
     "output_type": "stream",
     "text": [
      "\n",
      "      Epoch    GPU_mem   box_loss   cls_loss   dfl_loss  Instances       Size\n"
     ]
    },
    {
     "name": "stderr",
     "output_type": "stream",
     "text": [
      "      29/50         0G      1.112     0.9416      1.043         67        640: 100%|██████████| 137/137 [05:58<00:00,  2.62s/it]\n",
      "                 Class     Images  Instances      Box(P          R      mAP50  mAP50-95): 100%|██████████| 9/9 [00:12<00:00,  1.43s/it]"
     ]
    },
    {
     "name": "stdout",
     "output_type": "stream",
     "text": [
      "                   all        273        897      0.738      0.592      0.683      0.449\n"
     ]
    },
    {
     "name": "stderr",
     "output_type": "stream",
     "text": [
      "\n"
     ]
    },
    {
     "name": "stdout",
     "output_type": "stream",
     "text": [
      "\n",
      "      Epoch    GPU_mem   box_loss   cls_loss   dfl_loss  Instances       Size\n"
     ]
    },
    {
     "name": "stderr",
     "output_type": "stream",
     "text": [
      "      30/50         0G      1.097     0.9278      1.037         71        640: 100%|██████████| 137/137 [06:01<00:00,  2.64s/it]\n",
      "                 Class     Images  Instances      Box(P          R      mAP50  mAP50-95): 100%|██████████| 9/9 [00:12<00:00,  1.40s/it]"
     ]
    },
    {
     "name": "stdout",
     "output_type": "stream",
     "text": [
      "                   all        273        897      0.746        0.6      0.698      0.456\n"
     ]
    },
    {
     "name": "stderr",
     "output_type": "stream",
     "text": [
      "\n"
     ]
    },
    {
     "name": "stdout",
     "output_type": "stream",
     "text": [
      "\n",
      "      Epoch    GPU_mem   box_loss   cls_loss   dfl_loss  Instances       Size\n"
     ]
    },
    {
     "name": "stderr",
     "output_type": "stream",
     "text": [
      "      31/50         0G      1.076     0.9074      1.029         67        640: 100%|██████████| 137/137 [05:59<00:00,  2.62s/it]\n",
      "                 Class     Images  Instances      Box(P          R      mAP50  mAP50-95): 100%|██████████| 9/9 [00:12<00:00,  1.41s/it]"
     ]
    },
    {
     "name": "stdout",
     "output_type": "stream",
     "text": [
      "                   all        273        897      0.715      0.623       0.69      0.449\n"
     ]
    },
    {
     "name": "stderr",
     "output_type": "stream",
     "text": [
      "\n"
     ]
    },
    {
     "name": "stdout",
     "output_type": "stream",
     "text": [
      "\n",
      "      Epoch    GPU_mem   box_loss   cls_loss   dfl_loss  Instances       Size\n"
     ]
    },
    {
     "name": "stderr",
     "output_type": "stream",
     "text": [
      "      32/50         0G      1.089     0.9017      1.031         38        640: 100%|██████████| 137/137 [06:02<00:00,  2.64s/it]\n",
      "                 Class     Images  Instances      Box(P          R      mAP50  mAP50-95): 100%|██████████| 9/9 [00:12<00:00,  1.41s/it]"
     ]
    },
    {
     "name": "stdout",
     "output_type": "stream",
     "text": [
      "                   all        273        897      0.763      0.616      0.698      0.459\n"
     ]
    },
    {
     "name": "stderr",
     "output_type": "stream",
     "text": [
      "\n"
     ]
    },
    {
     "name": "stdout",
     "output_type": "stream",
     "text": [
      "\n",
      "      Epoch    GPU_mem   box_loss   cls_loss   dfl_loss  Instances       Size\n"
     ]
    },
    {
     "name": "stderr",
     "output_type": "stream",
     "text": [
      "      33/50         0G       1.09     0.9032      1.032         63        640: 100%|██████████| 137/137 [05:59<00:00,  2.63s/it]\n",
      "                 Class     Images  Instances      Box(P          R      mAP50  mAP50-95): 100%|██████████| 9/9 [00:12<00:00,  1.41s/it]"
     ]
    },
    {
     "name": "stdout",
     "output_type": "stream",
     "text": [
      "                   all        273        897      0.709      0.594      0.687      0.442\n"
     ]
    },
    {
     "name": "stderr",
     "output_type": "stream",
     "text": [
      "\n"
     ]
    },
    {
     "name": "stdout",
     "output_type": "stream",
     "text": [
      "\n",
      "      Epoch    GPU_mem   box_loss   cls_loss   dfl_loss  Instances       Size\n"
     ]
    },
    {
     "name": "stderr",
     "output_type": "stream",
     "text": [
      "      34/50         0G      1.069     0.8824      1.028         75        640: 100%|██████████| 137/137 [06:03<00:00,  2.66s/it]\n",
      "                 Class     Images  Instances      Box(P          R      mAP50  mAP50-95): 100%|██████████| 9/9 [00:12<00:00,  1.41s/it]"
     ]
    },
    {
     "name": "stdout",
     "output_type": "stream",
     "text": [
      "                   all        273        897      0.723      0.613      0.696      0.461\n"
     ]
    },
    {
     "name": "stderr",
     "output_type": "stream",
     "text": [
      "\n"
     ]
    },
    {
     "name": "stdout",
     "output_type": "stream",
     "text": [
      "\n",
      "      Epoch    GPU_mem   box_loss   cls_loss   dfl_loss  Instances       Size\n"
     ]
    },
    {
     "name": "stderr",
     "output_type": "stream",
     "text": [
      "      35/50         0G       1.06     0.8698      1.024         73        640: 100%|██████████| 137/137 [05:52<00:00,  2.57s/it]\n",
      "                 Class     Images  Instances      Box(P          R      mAP50  mAP50-95): 100%|██████████| 9/9 [00:12<00:00,  1.41s/it]"
     ]
    },
    {
     "name": "stdout",
     "output_type": "stream",
     "text": [
      "                   all        273        897      0.725      0.619      0.704      0.459\n"
     ]
    },
    {
     "name": "stderr",
     "output_type": "stream",
     "text": [
      "\n"
     ]
    },
    {
     "name": "stdout",
     "output_type": "stream",
     "text": [
      "\n",
      "      Epoch    GPU_mem   box_loss   cls_loss   dfl_loss  Instances       Size\n"
     ]
    },
    {
     "name": "stderr",
     "output_type": "stream",
     "text": [
      "      36/50         0G      1.053     0.8593      1.016         62        640: 100%|██████████| 137/137 [05:50<00:00,  2.56s/it]\n",
      "                 Class     Images  Instances      Box(P          R      mAP50  mAP50-95): 100%|██████████| 9/9 [00:12<00:00,  1.41s/it]"
     ]
    },
    {
     "name": "stdout",
     "output_type": "stream",
     "text": [
      "                   all        273        897      0.752      0.618       0.71      0.463\n"
     ]
    },
    {
     "name": "stderr",
     "output_type": "stream",
     "text": [
      "\n"
     ]
    },
    {
     "name": "stdout",
     "output_type": "stream",
     "text": [
      "\n",
      "      Epoch    GPU_mem   box_loss   cls_loss   dfl_loss  Instances       Size\n"
     ]
    },
    {
     "name": "stderr",
     "output_type": "stream",
     "text": [
      "      37/50         0G       1.04     0.8453      1.012        130        640: 100%|██████████| 137/137 [05:49<00:00,  2.55s/it]\n",
      "                 Class     Images  Instances      Box(P          R      mAP50  mAP50-95): 100%|██████████| 9/9 [00:12<00:00,  1.40s/it]"
     ]
    },
    {
     "name": "stdout",
     "output_type": "stream",
     "text": [
      "                   all        273        897      0.746      0.586       0.69      0.457\n"
     ]
    },
    {
     "name": "stderr",
     "output_type": "stream",
     "text": [
      "\n"
     ]
    },
    {
     "name": "stdout",
     "output_type": "stream",
     "text": [
      "\n",
      "      Epoch    GPU_mem   box_loss   cls_loss   dfl_loss  Instances       Size\n"
     ]
    },
    {
     "name": "stderr",
     "output_type": "stream",
     "text": [
      "      38/50         0G      1.033     0.8351      1.009         38        640: 100%|██████████| 137/137 [05:56<00:00,  2.60s/it]\n",
      "                 Class     Images  Instances      Box(P          R      mAP50  mAP50-95): 100%|██████████| 9/9 [00:12<00:00,  1.41s/it]"
     ]
    },
    {
     "name": "stdout",
     "output_type": "stream",
     "text": [
      "                   all        273        897      0.723       0.62      0.706      0.453\n"
     ]
    },
    {
     "name": "stderr",
     "output_type": "stream",
     "text": [
      "\n"
     ]
    },
    {
     "name": "stdout",
     "output_type": "stream",
     "text": [
      "\n",
      "      Epoch    GPU_mem   box_loss   cls_loss   dfl_loss  Instances       Size\n"
     ]
    },
    {
     "name": "stderr",
     "output_type": "stream",
     "text": [
      "      39/50         0G      1.017     0.8146      1.004         54        640: 100%|██████████| 137/137 [05:54<00:00,  2.59s/it]\n",
      "                 Class     Images  Instances      Box(P          R      mAP50  mAP50-95): 100%|██████████| 9/9 [00:12<00:00,  1.41s/it]"
     ]
    },
    {
     "name": "stdout",
     "output_type": "stream",
     "text": [
      "                   all        273        897      0.712      0.647      0.713       0.47\n"
     ]
    },
    {
     "name": "stderr",
     "output_type": "stream",
     "text": [
      "\n"
     ]
    },
    {
     "name": "stdout",
     "output_type": "stream",
     "text": [
      "\n",
      "      Epoch    GPU_mem   box_loss   cls_loss   dfl_loss  Instances       Size\n"
     ]
    },
    {
     "name": "stderr",
     "output_type": "stream",
     "text": [
      "      40/50         0G      1.031     0.8238       1.01         52        640: 100%|██████████| 137/137 [05:53<00:00,  2.58s/it]\n",
      "                 Class     Images  Instances      Box(P          R      mAP50  mAP50-95): 100%|██████████| 9/9 [00:12<00:00,  1.41s/it]"
     ]
    },
    {
     "name": "stdout",
     "output_type": "stream",
     "text": [
      "                   all        273        897      0.738      0.647      0.725      0.481\n"
     ]
    },
    {
     "name": "stderr",
     "output_type": "stream",
     "text": [
      "\n"
     ]
    },
    {
     "name": "stdout",
     "output_type": "stream",
     "text": [
      "Closing dataloader mosaic\n",
      "\n",
      "      Epoch    GPU_mem   box_loss   cls_loss   dfl_loss  Instances       Size\n"
     ]
    },
    {
     "name": "stderr",
     "output_type": "stream",
     "text": [
      "c:\\Program Files\\Python311\\Lib\\site-packages\\torch\\utils\\data\\dataloader.py:665: UserWarning: 'pin_memory' argument is set as true but no accelerator is found, then device pinned memory won't be used.\n",
      "  warnings.warn(warn_msg)\n",
      "      41/50         0G      1.015     0.7733     0.9843         21        640: 100%|██████████| 137/137 [05:46<00:00,  2.53s/it]\n",
      "                 Class     Images  Instances      Box(P          R      mAP50  mAP50-95): 100%|██████████| 9/9 [00:12<00:00,  1.41s/it]"
     ]
    },
    {
     "name": "stdout",
     "output_type": "stream",
     "text": [
      "                   all        273        897      0.707      0.639      0.698      0.461\n"
     ]
    },
    {
     "name": "stderr",
     "output_type": "stream",
     "text": [
      "\n"
     ]
    },
    {
     "name": "stdout",
     "output_type": "stream",
     "text": [
      "\n",
      "      Epoch    GPU_mem   box_loss   cls_loss   dfl_loss  Instances       Size\n"
     ]
    },
    {
     "name": "stderr",
     "output_type": "stream",
     "text": [
      "      42/50         0G      1.004     0.7384     0.9882         43        640: 100%|██████████| 137/137 [05:47<00:00,  2.54s/it]\n",
      "                 Class     Images  Instances      Box(P          R      mAP50  mAP50-95): 100%|██████████| 9/9 [00:12<00:00,  1.42s/it]"
     ]
    },
    {
     "name": "stdout",
     "output_type": "stream",
     "text": [
      "                   all        273        897      0.722      0.652      0.714      0.469\n"
     ]
    },
    {
     "name": "stderr",
     "output_type": "stream",
     "text": [
      "\n"
     ]
    },
    {
     "name": "stdout",
     "output_type": "stream",
     "text": [
      "\n",
      "      Epoch    GPU_mem   box_loss   cls_loss   dfl_loss  Instances       Size\n"
     ]
    },
    {
     "name": "stderr",
     "output_type": "stream",
     "text": [
      "      43/50         0G     0.9923     0.7288     0.9851         26        640: 100%|██████████| 137/137 [05:48<00:00,  2.54s/it]\n",
      "                 Class     Images  Instances      Box(P          R      mAP50  mAP50-95): 100%|██████████| 9/9 [00:12<00:00,  1.42s/it]"
     ]
    },
    {
     "name": "stdout",
     "output_type": "stream",
     "text": [
      "                   all        273        897      0.724      0.637      0.714      0.469\n"
     ]
    },
    {
     "name": "stderr",
     "output_type": "stream",
     "text": [
      "\n"
     ]
    },
    {
     "name": "stdout",
     "output_type": "stream",
     "text": [
      "\n",
      "      Epoch    GPU_mem   box_loss   cls_loss   dfl_loss  Instances       Size\n"
     ]
    },
    {
     "name": "stderr",
     "output_type": "stream",
     "text": [
      "      44/50         0G     0.9808     0.7223     0.9727         83        640: 100%|██████████| 137/137 [05:47<00:00,  2.54s/it]\n",
      "                 Class     Images  Instances      Box(P          R      mAP50  mAP50-95): 100%|██████████| 9/9 [00:12<00:00,  1.41s/it]"
     ]
    },
    {
     "name": "stdout",
     "output_type": "stream",
     "text": [
      "                   all        273        897      0.758      0.617      0.713      0.475\n"
     ]
    },
    {
     "name": "stderr",
     "output_type": "stream",
     "text": [
      "\n"
     ]
    },
    {
     "name": "stdout",
     "output_type": "stream",
     "text": [
      "\n",
      "      Epoch    GPU_mem   box_loss   cls_loss   dfl_loss  Instances       Size\n"
     ]
    },
    {
     "name": "stderr",
     "output_type": "stream",
     "text": [
      "      45/50         0G     0.9655     0.6948     0.9723         28        640: 100%|██████████| 137/137 [05:49<00:00,  2.55s/it]\n",
      "                 Class     Images  Instances      Box(P          R      mAP50  mAP50-95): 100%|██████████| 9/9 [00:12<00:00,  1.41s/it]"
     ]
    },
    {
     "name": "stdout",
     "output_type": "stream",
     "text": [
      "                   all        273        897      0.729       0.64      0.713      0.471\n"
     ]
    },
    {
     "name": "stderr",
     "output_type": "stream",
     "text": [
      "\n"
     ]
    },
    {
     "name": "stdout",
     "output_type": "stream",
     "text": [
      "\n",
      "      Epoch    GPU_mem   box_loss   cls_loss   dfl_loss  Instances       Size\n"
     ]
    },
    {
     "name": "stderr",
     "output_type": "stream",
     "text": [
      "      46/50         0G     0.9636      0.689     0.9648         29        640: 100%|██████████| 137/137 [05:49<00:00,  2.55s/it]\n",
      "                 Class     Images  Instances      Box(P          R      mAP50  mAP50-95): 100%|██████████| 9/9 [00:12<00:00,  1.42s/it]"
     ]
    },
    {
     "name": "stdout",
     "output_type": "stream",
     "text": [
      "                   all        273        897       0.74      0.656      0.714      0.474\n"
     ]
    },
    {
     "name": "stderr",
     "output_type": "stream",
     "text": [
      "\n"
     ]
    },
    {
     "name": "stdout",
     "output_type": "stream",
     "text": [
      "\n",
      "      Epoch    GPU_mem   box_loss   cls_loss   dfl_loss  Instances       Size\n"
     ]
    },
    {
     "name": "stderr",
     "output_type": "stream",
     "text": [
      "      47/50         0G     0.9508     0.6814     0.9675         33        640: 100%|██████████| 137/137 [05:46<00:00,  2.53s/it]\n",
      "                 Class     Images  Instances      Box(P          R      mAP50  mAP50-95): 100%|██████████| 9/9 [00:12<00:00,  1.41s/it]"
     ]
    },
    {
     "name": "stdout",
     "output_type": "stream",
     "text": [
      "                   all        273        897      0.758      0.666       0.73      0.484\n"
     ]
    },
    {
     "name": "stderr",
     "output_type": "stream",
     "text": [
      "\n"
     ]
    },
    {
     "name": "stdout",
     "output_type": "stream",
     "text": [
      "\n",
      "      Epoch    GPU_mem   box_loss   cls_loss   dfl_loss  Instances       Size\n"
     ]
    },
    {
     "name": "stderr",
     "output_type": "stream",
     "text": [
      "      48/50         0G     0.9536     0.6716     0.9587         25        640: 100%|██████████| 137/137 [05:47<00:00,  2.54s/it]\n",
      "                 Class     Images  Instances      Box(P          R      mAP50  mAP50-95): 100%|██████████| 9/9 [00:12<00:00,  1.40s/it]"
     ]
    },
    {
     "name": "stdout",
     "output_type": "stream",
     "text": [
      "                   all        273        897      0.756      0.634      0.723      0.483\n"
     ]
    },
    {
     "name": "stderr",
     "output_type": "stream",
     "text": [
      "\n"
     ]
    },
    {
     "name": "stdout",
     "output_type": "stream",
     "text": [
      "\n",
      "      Epoch    GPU_mem   box_loss   cls_loss   dfl_loss  Instances       Size\n"
     ]
    },
    {
     "name": "stderr",
     "output_type": "stream",
     "text": [
      "      49/50         0G     0.9342     0.6618     0.9553         31        640: 100%|██████████| 137/137 [05:49<00:00,  2.55s/it]\n",
      "                 Class     Images  Instances      Box(P          R      mAP50  mAP50-95): 100%|██████████| 9/9 [00:12<00:00,  1.42s/it]"
     ]
    },
    {
     "name": "stdout",
     "output_type": "stream",
     "text": [
      "                   all        273        897      0.754      0.648      0.727      0.481\n"
     ]
    },
    {
     "name": "stderr",
     "output_type": "stream",
     "text": [
      "\n"
     ]
    },
    {
     "name": "stdout",
     "output_type": "stream",
     "text": [
      "\n",
      "      Epoch    GPU_mem   box_loss   cls_loss   dfl_loss  Instances       Size\n"
     ]
    },
    {
     "name": "stderr",
     "output_type": "stream",
     "text": [
      "      50/50         0G     0.9335      0.658     0.9503         35        640: 100%|██████████| 137/137 [05:49<00:00,  2.55s/it]\n",
      "                 Class     Images  Instances      Box(P          R      mAP50  mAP50-95): 100%|██████████| 9/9 [00:12<00:00,  1.41s/it]"
     ]
    },
    {
     "name": "stdout",
     "output_type": "stream",
     "text": [
      "                   all        273        897      0.764      0.646      0.728       0.48\n"
     ]
    },
    {
     "name": "stderr",
     "output_type": "stream",
     "text": [
      "\n"
     ]
    },
    {
     "name": "stdout",
     "output_type": "stream",
     "text": [
      "\n",
      "50 epochs completed in 5.203 hours.\n",
      "Optimizer stripped from runs\\detect\\train2\\weights\\last.pt, 5.4MB\n",
      "Optimizer stripped from runs\\detect\\train2\\weights\\best.pt, 5.4MB\n",
      "\n",
      "Validating runs\\detect\\train2\\weights\\best.pt...\n",
      "Ultralytics 8.3.160  Python-3.11.9 torch-2.7.1+cpu CPU (12th Gen Intel Core(TM) i5-12400)\n",
      "YOLO11n summary (fused): 100 layers, 2,582,932 parameters, 0 gradients, 6.3 GFLOPs\n"
     ]
    },
    {
     "name": "stderr",
     "output_type": "stream",
     "text": [
      "                 Class     Images  Instances      Box(P          R      mAP50  mAP50-95): 100%|██████████| 9/9 [00:10<00:00,  1.20s/it]\n"
     ]
    },
    {
     "name": "stdout",
     "output_type": "stream",
     "text": [
      "                   all        273        897      0.759      0.666       0.73      0.484\n",
      "                   car        138        338      0.711      0.716      0.752      0.547\n",
      "                   bus        130        248       0.78       0.73      0.774      0.549\n",
      "                 truck         83        155      0.777      0.673      0.732       0.52\n",
      "             motorbike         88        156      0.768      0.545       0.66      0.321\n",
      "Speed: 0.5ms preprocess, 26.8ms inference, 0.0ms loss, 0.4ms postprocess per image\n",
      "Results saved to \u001b[1mruns\\detect\\train2\u001b[0m\n"
     ]
    }
   ],
   "source": [
    "results=model.train(data=r\"D:\\hackthan\\process\\vehicle_data.yaml\",epochs=50,imgsz=640)"
   ]
  },
  {
   "cell_type": "code",
   "execution_count": null,
   "id": "a6e4a94d",
   "metadata": {},
   "outputs": [
    {
     "data": {
      "application/vnd.jupyter.widget-view+json": {
       "model_id": "f385377cc6894d608a4c7184fca3cf1a",
       "version_major": 2,
       "version_minor": 0
      },
      "text/plain": [
       "FileUpload(value=(), accept='image/*', description='Upload')"
      ]
     },
     "metadata": {},
     "output_type": "display_data"
    },
    {
     "data": {
      "application/vnd.jupyter.widget-view+json": {
       "model_id": "520708e3cda14ad8891a553586469571",
       "version_major": 2,
       "version_minor": 0
      },
      "text/plain": [
       "Output()"
      ]
     },
     "metadata": {},
     "output_type": "display_data"
    }
   ],
   "source": [
    "from ipywidgets import FileUpload, Output\n",
    "from IPython.display import display, Image\n",
    "from ultralytics import YOLO\n",
    "import cv2\n",
    "import numpy as np\n",
    "\n",
    "# Load the YOLO model\n",
    "model = YOLO(\"best.pt\")\n",
    "\n",
    "# Create file upload widget\n",
    "file_upload = FileUpload(accept='image/*', multiple=False)  # Only accept image files\n",
    "output = Output()\n",
    "\n",
    "def on_upload_change(change):\n",
    "    # Clear previous output\n",
    "    output.clear_output()\n",
    "    \n",
    "    # Retrieve the uploaded file\n",
    "    if isinstance(file_upload.value, dict):  # Check if value is a dict (older versions)\n",
    "        uploaded_file = list(file_upload.value.values())[0]\n",
    "        content = uploaded_file['content']\n",
    "        filename = uploaded_file['metadata']['name']\n",
    "    elif isinstance(file_upload.value, tuple):  # Check for tuple (newer versions)\n",
    "        uploaded_file = file_upload.value[0]\n",
    "        content = uploaded_file['content']\n",
    "        filename = uploaded_file['name']\n",
    "    else:\n",
    "        with output:\n",
    "            print(\"Unrecognized file_upload structure!\")\n",
    "        return\n",
    "    \n",
    "    # Save the uploaded file temporarily\n",
    "    temp_path = f\"./{filename}\"\n",
    "    with open(temp_path, 'wb') as f:\n",
    "        f.write(content)\n",
    "    \n",
    "    # Load the image with OpenCV\n",
    "    image = cv2.imdecode(np.frombuffer(content, np.uint8), cv2.IMREAD_COLOR)\n",
    "    \n",
    "    # Perform YOLO prediction\n",
    "    results = model.predict(source=image, show=False)  # Disable display in this function\n",
    "    \n",
    "    # Draw bounding boxes on the image\n",
    "    for result in results:\n",
    "        for box in result.boxes:\n",
    "            x1, y1, x2, y2 = map(int, box.xyxy[0])  # Bounding box coordinates\n",
    "            class_id = int(box.cls[0])  # Class ID\n",
    "            class_name = model.names[class_id]  # Get class name from ID\n",
    "            confidence = box.conf[0]  # Confidence score\n",
    "            \n",
    "            # Draw the bounding box and label\n",
    "            cv2.rectangle(image, (x1, y1), (x2, y2), (0, 255, 0), 2)  # Green box\n",
    "            label = f\"{class_name} ({confidence:.2f})\"\n",
    "            cv2.putText(image, label, (x1, y1 - 10), cv2.FONT_HERSHEY_SIMPLEX, 0.5, (0, 255, 0), 2)\n",
    "\n",
    "    # Display detected classes and the image with bounding boxes\n",
    "    with output:\n",
    "        print(\"Detected Classes:\")\n",
    "        for result in results:\n",
    "            for box in result.boxes:\n",
    "                class_id = int(box.cls[0])  # Class ID\n",
    "                class_name = model.names[class_id]  # Get class name from ID\n",
    "                print(class_name)\n",
    "        \n",
    "        # Convert image to JPEG for display\n",
    "        _, encoded_img = cv2.imencode('.jpg', image)\n",
    "        display(Image(data=encoded_img.tobytes(), format='jpg'))\n",
    "\n",
    "# Attach event listener to the file upload widget\n",
    "file_upload.observe(on_upload_change, names='value')\n",
    "\n",
    "# Display widgets\n",
    "display(file_upload, output)\n"
   ]
  },
  {
   "cell_type": "code",
   "execution_count": null,
   "id": "137eadc8",
   "metadata": {},
   "outputs": [],
   "source": []
  }
 ],
 "metadata": {
  "kernelspec": {
   "display_name": "Python 3",
   "language": "python",
   "name": "python3"
  },
  "language_info": {
   "codemirror_mode": {
    "name": "ipython",
    "version": 3
   },
   "file_extension": ".py",
   "mimetype": "text/x-python",
   "name": "python",
   "nbconvert_exporter": "python",
   "pygments_lexer": "ipython3",
   "version": "3.11.9"
  }
 },
 "nbformat": 4,
 "nbformat_minor": 5
}
